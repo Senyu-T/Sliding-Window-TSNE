{
  "nbformat": 4,
  "nbformat_minor": 0,
  "metadata": {
    "colab": {
      "name": "708_tsne_run.ipynb",
      "provenance": []
    },
    "kernelspec": {
      "name": "python3",
      "display_name": "Python 3"
    },
    "language_info": {
      "name": "python"
    },
    "accelerator": "GPU"
  },
  "cells": [
    {
      "cell_type": "code",
      "metadata": {
        "colab": {
          "base_uri": "https://localhost:8080/"
        },
        "id": "8iQDF7q2Tn8V",
        "outputId": "f48b48bc-c6b3-4da2-c1e7-696518aa8504"
      },
      "source": [
        "from google.colab import drive\n",
        "drive.mount('/content/drive')"
      ],
      "execution_count": 1,
      "outputs": [
        {
          "output_type": "stream",
          "text": [
            "Drive already mounted at /content/drive; to attempt to forcibly remount, call drive.mount(\"/content/drive\", force_remount=True).\n"
          ],
          "name": "stdout"
        }
      ]
    },
    {
      "cell_type": "code",
      "metadata": {
        "colab": {
          "base_uri": "https://localhost:8080/"
        },
        "id": "nhIMFfiUTypU",
        "outputId": "71631f59-2080-4848-f6c6-37af397323df"
      },
      "source": [
        "!nvidia-smi -L"
      ],
      "execution_count": 2,
      "outputs": [
        {
          "output_type": "stream",
          "text": [
            "GPU 0: Tesla V100-SXM2-16GB (UUID: GPU-4298279c-7d3e-02d0-05de-5b4059c2c28e)\n"
          ],
          "name": "stdout"
        }
      ]
    },
    {
      "cell_type": "code",
      "metadata": {
        "id": "ZbZlq2BPqvce"
      },
      "source": [
        "import os\n",
        "os.chdir(\"/content/drive/MyDrive/ELI5\")"
      ],
      "execution_count": 3,
      "outputs": []
    },
    {
      "cell_type": "markdown",
      "metadata": {
        "id": "_T5aIAWXMN68"
      },
      "source": [
        "# Argument Parser for t-sne trainer"
      ]
    },
    {
      "cell_type": "code",
      "metadata": {
        "id": "LXQQOoxKq73x"
      },
      "source": [
        "from single_group_sw_tsne import *"
      ],
      "execution_count": 4,
      "outputs": []
    },
    {
      "cell_type": "code",
      "metadata": {
        "id": "o8DY9e1nsNEF"
      },
      "source": [
        "class ArgumentsTSN():\n",
        "  def __init__(self):\n",
        "    self.data = \"data/wiki/30k/wiki30k_reps.dat\"\n",
        "    self.cuda = 1  # if use cuda accelarate\n",
        "    self.input_dim = 128  # input dimension\n",
        "    self.output_dim = 64  # output dimension\n",
        "    self.initial_momentum = 0.5   # initial momentum\n",
        "    self.initial_iter = 10 # number of beginning interations to apply intial_momentum \n",
        "    self.early_exag = 20  # number of beginning interations to apply P value exaggeration\n",
        "    self.final_momentum = 0.8  # final momentum\n",
        "    self.exag_factor = 4.  # exag factor for P value for first early_exag iterations\n",
        "    self.max_iter = 300    # maximum iteration\n",
        "\n",
        "    self.init_method = \"pca\"   # pca / random initialization of reduced embedding\n",
        "\n",
        "    self.window_size = 5000   # window size for each tsne computation\n",
        "    self.jump_size = 1500    # (window - overlap size) for each tsne computation\")\n",
        "    self.perplexity = 30.0    \n",
        "    self.n = 29727    # number of data points\n",
        "    self.eta = 500\n",
        "    self.min_gain = 0.01\n",
        "    self.fuse_prob = 0.5  # fuse quesitons into docs for reducing\n",
        "    self.ques_len = 20\n",
        "\n",
        "opt = ArgumentsTSN()"
      ],
      "execution_count": 19,
      "outputs": []
    },
    {
      "cell_type": "markdown",
      "metadata": {
        "id": "oYHC_-ahliXt"
      },
      "source": [
        "# wiki30k reduce to 64D, without fusing Questions"
      ]
    },
    {
      "cell_type": "code",
      "metadata": {
        "id": "BzImnHZCrs3r"
      },
      "source": [
        "data = opt.data\n",
        "jump_size = opt.jump_size\n",
        "max_iter = opt.max_iter\n",
        "N = opt.n\n",
        "window_size = opt.window_size"
      ],
      "execution_count": 6,
      "outputs": []
    },
    {
      "cell_type": "code",
      "metadata": {
        "colab": {
          "base_uri": "https://localhost:8080/",
          "height": 372
        },
        "id": "R5Il9AV9t07g",
        "outputId": "31ba8e02-6256-4dbe-e84a-37d2abfb14f9"
      },
      "source": [
        " # @TODO, no sure if this tensor is too large? Probably we need to use CPU first\n",
        "X = np.memmap(opt.data, dtype='float32', mode='r', shape=(opt.n, opt.input_dim))\n",
        "X = torch.Tensor(X)\n",
        "#X = torch.randn([29727, 128])\n",
        "'''\n",
        "with open (opt.questions, \"rb\") as f:\n",
        "  Q = np.load(f)\n",
        "Q = torch.tensor(Q)\n",
        "assert(X.shape[1] == Q.shape[1])\n",
        "'''\n",
        "\n",
        "assert(X.shape[0] == N)\n",
        "print(X.shape)"
      ],
      "execution_count": 7,
      "outputs": [
        {
          "output_type": "error",
          "ename": "KeyboardInterrupt",
          "evalue": "ignored",
          "traceback": [
            "\u001b[0;31m---------------------------------------------------------------------------\u001b[0m",
            "\u001b[0;31mKeyboardInterrupt\u001b[0m                         Traceback (most recent call last)",
            "\u001b[0;32m<ipython-input-7-285bdfee93c1>\u001b[0m in \u001b[0;36m<module>\u001b[0;34m()\u001b[0m\n\u001b[1;32m      1\u001b[0m \u001b[0;31m# @TODO, no sure if this tensor is too large? Probably we need to use CPU first\u001b[0m\u001b[0;34m\u001b[0m\u001b[0;34m\u001b[0m\u001b[0;34m\u001b[0m\u001b[0m\n\u001b[1;32m      2\u001b[0m \u001b[0mX\u001b[0m \u001b[0;34m=\u001b[0m \u001b[0mnp\u001b[0m\u001b[0;34m.\u001b[0m\u001b[0mmemmap\u001b[0m\u001b[0;34m(\u001b[0m\u001b[0mopt\u001b[0m\u001b[0;34m.\u001b[0m\u001b[0mdata\u001b[0m\u001b[0;34m,\u001b[0m \u001b[0mdtype\u001b[0m\u001b[0;34m=\u001b[0m\u001b[0;34m'float32'\u001b[0m\u001b[0;34m,\u001b[0m \u001b[0mmode\u001b[0m\u001b[0;34m=\u001b[0m\u001b[0;34m'r'\u001b[0m\u001b[0;34m,\u001b[0m \u001b[0mshape\u001b[0m\u001b[0;34m=\u001b[0m\u001b[0;34m(\u001b[0m\u001b[0mopt\u001b[0m\u001b[0;34m.\u001b[0m\u001b[0mn\u001b[0m\u001b[0;34m,\u001b[0m \u001b[0mopt\u001b[0m\u001b[0;34m.\u001b[0m\u001b[0minput_dim\u001b[0m\u001b[0;34m)\u001b[0m\u001b[0;34m)\u001b[0m\u001b[0;34m\u001b[0m\u001b[0;34m\u001b[0m\u001b[0m\n\u001b[0;32m----> 3\u001b[0;31m \u001b[0mX\u001b[0m \u001b[0;34m=\u001b[0m \u001b[0mtorch\u001b[0m\u001b[0;34m.\u001b[0m\u001b[0mTensor\u001b[0m\u001b[0;34m(\u001b[0m\u001b[0mX\u001b[0m\u001b[0;34m)\u001b[0m\u001b[0;34m\u001b[0m\u001b[0;34m\u001b[0m\u001b[0m\n\u001b[0m\u001b[1;32m      4\u001b[0m \u001b[0;31m#X = torch.randn([29727, 128])\u001b[0m\u001b[0;34m\u001b[0m\u001b[0;34m\u001b[0m\u001b[0;34m\u001b[0m\u001b[0m\n\u001b[1;32m      5\u001b[0m '''\n",
            "\u001b[0;32m/usr/lib/python3.7/warnings.py\u001b[0m in \u001b[0;36m__init__\u001b[0;34m(self, message, category, filename, lineno, file, line, source)\u001b[0m\n\u001b[1;32m    413\u001b[0m                         \"line\", \"source\")\n\u001b[1;32m    414\u001b[0m \u001b[0;34m\u001b[0m\u001b[0m\n\u001b[0;32m--> 415\u001b[0;31m     def __init__(self, message, category, filename, lineno, file=None,\n\u001b[0m\u001b[1;32m    416\u001b[0m                  line=None, source=None):\n\u001b[1;32m    417\u001b[0m         \u001b[0mself\u001b[0m\u001b[0;34m.\u001b[0m\u001b[0mmessage\u001b[0m \u001b[0;34m=\u001b[0m \u001b[0mmessage\u001b[0m\u001b[0;34m\u001b[0m\u001b[0;34m\u001b[0m\u001b[0m\n",
            "\u001b[0;31mKeyboardInterrupt\u001b[0m: "
          ]
        }
      ]
    },
    {
      "cell_type": "code",
      "metadata": {
        "id": "YFwy7T-Ut32i"
      },
      "source": [
        "Y = torch.zeros((N, opt.output_dim))\n",
        "b_s = (N - window_size) // jump_size + 2\n",
        "print(f\"Batches to run: {b_s}\")"
      ],
      "execution_count": null,
      "outputs": []
    },
    {
      "cell_type": "code",
      "metadata": {
        "id": "VnVKsQlnul0u"
      },
      "source": [
        "cur_Y = None\n",
        "loss = []\n",
        "batch_first_loss = []"
      ],
      "execution_count": null,
      "outputs": []
    },
    {
      "cell_type": "code",
      "metadata": {
        "id": "vDneoNkSt619"
      },
      "source": [
        "with torch.no_grad():\n",
        "  for batch_idx in tqdm(range(b_s), total=b_s, position=0, leave=True):\n",
        "    start = batch_idx * jump_size\n",
        "    end = min(start + window_size, opt.n)\n",
        "    print(start, end)\n",
        "\n",
        "    cur_Y, cur_loss = tsne(X[start:end], max_iter=max_iter, window_size=min(window_size, end-start), jump_size=jump_size, prev_feat=cur_Y)\n",
        "    batch_first_loss.append(cur_loss[0])\n",
        "    loss.extend(cur_loss)\n",
        "    Y[start:end] = cur_Y\n",
        "    if end == opt.n: break"
      ],
      "execution_count": null,
      "outputs": []
    },
    {
      "cell_type": "code",
      "metadata": {
        "id": "R49csQRXt-Fa"
      },
      "source": [
        "print(Y.shape)\n",
        "path = f\"out/ws_{window_size}_js_{jump_size}_init_{opt.init_method}\"\n",
        "# save output\n",
        "torch.save(Y, f\"{path}.pt\")\n",
        "torch.save(torch.tensor(loss), f\"{path}_loss.pt\")\n",
        "torch.save(torch.tensor(batch_first_loss), f\"{path}_batch_first_loss.pt\")"
      ],
      "execution_count": null,
      "outputs": []
    },
    {
      "cell_type": "markdown",
      "metadata": {
        "id": "QgnWA3JZJilQ"
      },
      "source": [
        "#Analysis for randomly initialized loss."
      ]
    },
    {
      "cell_type": "code",
      "metadata": {
        "id": "6xf_gh9yHy4B"
      },
      "source": [
        "import matplotlib.pyplot as plt\n",
        "x_axis = np.arange(0, len(loss))\n",
        "print(x_axis)\n",
        "plt.plot(x_axis, np.array(loss))\n",
        "plt.show()"
      ],
      "execution_count": null,
      "outputs": []
    },
    {
      "cell_type": "code",
      "metadata": {
        "id": "8DSF6GbuISCn"
      },
      "source": [
        "plt.close()"
      ],
      "execution_count": null,
      "outputs": []
    },
    {
      "cell_type": "code",
      "metadata": {
        "id": "DmZgoAJFINZo"
      },
      "source": [
        "x_h_axis = np.arange(0, len(batch_first_loss))\n",
        "plt.plot(x_h_axis, np.array(batch_first_loss))\n",
        "plt.show()"
      ],
      "execution_count": null,
      "outputs": []
    },
    {
      "cell_type": "code",
      "metadata": {
        "id": "ajWlwJCBIzO0"
      },
      "source": [
        "plt.close()"
      ],
      "execution_count": null,
      "outputs": []
    },
    {
      "cell_type": "code",
      "metadata": {
        "id": "eHfmTbFkI1NC"
      },
      "source": [
        "ax=plt.subplot(111)\n",
        "ax.plot(x_h_axis, batch_first_loss, color='r',linewidth=1.0)\n",
        "ax.set_ylim(0,1e6)\n",
        "plt.show()"
      ],
      "execution_count": null,
      "outputs": []
    },
    {
      "cell_type": "code",
      "metadata": {
        "id": "vcCF_hWzJWqS"
      },
      "source": [
        "ax=plt.subplot(111)\n",
        "ax.plot(x_axis, loss, color='r',linewidth=1.0)\n",
        "ax.set_ylim(6e3,1e6)\n",
        "plt.show()"
      ],
      "execution_count": null,
      "outputs": []
    },
    {
      "cell_type": "markdown",
      "metadata": {
        "id": "_UMybNpzJn-7"
      },
      "source": [
        "Analysis for pca init loss"
      ]
    },
    {
      "cell_type": "code",
      "metadata": {
        "id": "gmBwhgNFJqHf"
      },
      "source": [
        "pca_full_loss = torch.load('out/max_300/ws_5000_js_1500_init_pca_loss.pt').detach().cpu().numpy()"
      ],
      "execution_count": null,
      "outputs": []
    },
    {
      "cell_type": "code",
      "metadata": {
        "id": "y03KJcdOJ630"
      },
      "source": [
        "ax=plt.subplot(111)\n",
        "ax.plot(x_axis, pca_full_loss, color='r',linewidth=1.0)\n",
        "ax.set_ylim(6e3,1e6)\n",
        "plt.show()"
      ],
      "execution_count": null,
      "outputs": []
    },
    {
      "cell_type": "code",
      "metadata": {
        "id": "Z1D3Wxz9K9VA"
      },
      "source": [
        "ax=plt.subplot(111)\n",
        "ax.plot(x_axis, pca_full_loss, color='r',linewidth=1.0)\n",
        "ax.set_ylim(6e2,1e5)\n",
        "plt.show()"
      ],
      "execution_count": null,
      "outputs": []
    },
    {
      "cell_type": "code",
      "metadata": {
        "id": "_rCWqLZpKJfa"
      },
      "source": [
        "plt.plot(x_axis, pca_full_loss)\n",
        "plt.show()"
      ],
      "execution_count": null,
      "outputs": []
    },
    {
      "cell_type": "code",
      "metadata": {
        "id": "aykm-tE0KUyr"
      },
      "source": [
        "pca_head_loss = torch.load('out/max_300/ws_5000_js_1500_init_pca_batch_first_loss.pt').detach().cpu().numpy()"
      ],
      "execution_count": null,
      "outputs": []
    },
    {
      "cell_type": "code",
      "metadata": {
        "id": "qNQlaPUwKRmB"
      },
      "source": [
        "plt.plot(x_h_axis, pca_head_loss)\n",
        "plt.show()"
      ],
      "execution_count": null,
      "outputs": []
    },
    {
      "cell_type": "code",
      "metadata": {
        "id": "Me-RfkocKdlN"
      },
      "source": [
        "ax=plt.subplot(111)\n",
        "ax.plot(x_h_axis, pca_head_loss, color='r',linewidth=1.0)\n",
        "ax.set_ylim(1e4,1e5)\n",
        "plt.show()"
      ],
      "execution_count": null,
      "outputs": []
    },
    {
      "cell_type": "markdown",
      "metadata": {
        "id": "BJHF7JdkYrjh"
      },
      "source": [
        "#Now we run dimension reducer for Question embedding\n"
      ]
    },
    {
      "cell_type": "code",
      "metadata": {
        "id": "7ruUvML-Yw3Q"
      },
      "source": [
        "opt_ques = ArgumentsTSN()"
      ],
      "execution_count": null,
      "outputs": []
    },
    {
      "cell_type": "code",
      "metadata": {
        "id": "Ruhj7P_jZG9L"
      },
      "source": [
        "opt_ques.init_method = \"pca\"\n",
        "opt_ques.data = \"data/Questions/20/q_20_reps.npy\"\n",
        "opt_ques.max_iter = 1000\n",
        "opt_ques.n = 20"
      ],
      "execution_count": null,
      "outputs": []
    },
    {
      "cell_type": "code",
      "metadata": {
        "id": "fkVEaZvhZXuB"
      },
      "source": [
        "data = opt_ques.data\n",
        "jump_size = opt_ques.jump_size\n",
        "max_iter = opt_ques.max_iter\n",
        "N = opt_ques.n\n",
        "window_size = opt_ques.window_size"
      ],
      "execution_count": null,
      "outputs": []
    },
    {
      "cell_type": "code",
      "metadata": {
        "id": "vNekUgfUZvQ8"
      },
      "source": [
        " # @TODO, no sure if this tensor is too large? Probably we need to use CPU first\n",
        "with open(data, 'rb') as f:\n",
        "  ques = np.load(data, allow_pickle=True)\n",
        "print(len(ques))"
      ],
      "execution_count": null,
      "outputs": []
    },
    {
      "cell_type": "code",
      "metadata": {
        "id": "d_FMf_tTZhHK"
      },
      "source": [
        "ques = torch.Tensor(ques)\n",
        "print(ques.shape)"
      ],
      "execution_count": null,
      "outputs": []
    },
    {
      "cell_type": "code",
      "metadata": {
        "id": "UqJ680ZrZekC"
      },
      "source": [
        "with torch.no_grad():\n",
        "  ques_reduce, ques_reduce_loss = tsne(ques, max_iter=max_iter, window_size=20, jump_size=0, prev_feat=None)"
      ],
      "execution_count": null,
      "outputs": []
    },
    {
      "cell_type": "code",
      "metadata": {
        "id": "C_APJ4nNapqF"
      },
      "source": [
        "path = f\"out/ques20_init_{opt_ques.init_method}\"\n",
        "# save output\n",
        "torch.save(ques_reduce, f\"{path}.pt\")\n",
        "torch.save(torch.tensor(ques_reduce_loss), f\"{path}_loss.pt\")"
      ],
      "execution_count": null,
      "outputs": []
    },
    {
      "cell_type": "markdown",
      "metadata": {
        "id": "5-hiLKBsa9cQ"
      },
      "source": [
        "#Jointly reduce question and wiki docs together (for consistency)\n"
      ]
    },
    {
      "cell_type": "code",
      "metadata": {
        "id": "GuWH60sua8o2"
      },
      "source": [
        "from mult_group_sw_tsne import *"
      ],
      "execution_count": 5,
      "outputs": []
    },
    {
      "cell_type": "code",
      "metadata": {
        "id": "fBBko4jVblya"
      },
      "source": [
        "def train(args, ques, ques_init_reps):\n",
        "  b_s = (args.n - args.window_size) // args.jump_size + 2\n",
        "  print(f\"Batches to run: {b_s}\")\n",
        "  cur_Y = None\n",
        "  docs = np.memmap(opt.data, dtype='float32', mode='r', shape=(args.n, args.input_dim))\n",
        "  docs = torch.Tensor(docs)\n",
        "  Y = torch.zeros((args.n, args.output_dim))\n",
        "  assert(ques_init_reps.shape[0] == args.ques_len)\n",
        "  loss = []\n",
        "  prev_ques = ques_init_reps\n",
        "  batch_first_loss = []\n",
        "  with torch.no_grad():\n",
        "    #for batch_idx in tqdm(range(b_s), total=b_s, position=0, leave=True):\n",
        "    for batch_idx in range(b_s):\n",
        "        start = batch_idx * args.jump_size\n",
        "        end = min(start + args.window_size, args.n)\n",
        "        cur_Y, cur_loss, fuse = tsne(docs[start:end], ques, q_len=args.ques_len, q_prev_feat=prev_ques, q_fuse_prob=args.fuse_prob, max_iter=args.max_iter, window_size=min(args.window_size, end-start), jump_size=args.jump_size, prev_feat=cur_Y, initial_momentum=0.5, final_momentum=0.8, eta=500, min_gain=0.01, tol=1e-5, initial_iter=10, early_exag=50, exag_factor=4)\n",
        "\n",
        "        batch_first_loss.append(cur_loss[0])\n",
        "        loss.extend(cur_loss)\n",
        "        if fuse:\n",
        "          Y[start:end] = cur_Y[args.ques_len:]\n",
        "          prev_ques = cur_Y[:args.ques_len]\n",
        "        else:\n",
        "          Y[start:end] = cur_Y\n",
        "          # prev_ques stays the same\n",
        "        if end == opt.n: break\n",
        "\n",
        "  print(Y.shape)\n",
        "  return Y, prev_ques, loss, batch_first_loss\n"
      ],
      "execution_count": 14,
      "outputs": []
    },
    {
      "cell_type": "code",
      "metadata": {
        "id": "OFXhL2MhjK9x"
      },
      "source": [
        "ques_reduce = torch.load(\"out/ques20_init_pca.pt\")"
      ],
      "execution_count": 7,
      "outputs": []
    },
    {
      "cell_type": "code",
      "metadata": {
        "colab": {
          "base_uri": "https://localhost:8080/"
        },
        "id": "YJVCBc2-jipH",
        "outputId": "c858f476-ccd0-4500-bff0-eea4566427f9"
      },
      "source": [
        "print(ques_reduce.shape)"
      ],
      "execution_count": 9,
      "outputs": [
        {
          "output_type": "stream",
          "text": [
            "torch.Size([20, 64])\n"
          ],
          "name": "stdout"
        }
      ]
    },
    {
      "cell_type": "code",
      "metadata": {
        "id": "wlC841SCjvYj"
      },
      "source": [
        "with open(\"/content/drive/MyDrive/ELI5/data/Questions/20/q_20_reps.npy\", \"rb\") as f:\n",
        "  ques = np.load(f)"
      ],
      "execution_count": 8,
      "outputs": []
    },
    {
      "cell_type": "code",
      "metadata": {
        "colab": {
          "base_uri": "https://localhost:8080/"
        },
        "id": "RLiMNvcwjrtk",
        "outputId": "6e3f7a23-bef8-4b2c-a0ed-82d06ee5afcd"
      },
      "source": [
        "ques = torch.Tensor(ques)\n",
        "print(ques.shape)"
      ],
      "execution_count": 9,
      "outputs": [
        {
          "output_type": "stream",
          "text": [
            "torch.Size([20, 128])\n"
          ],
          "name": "stdout"
        }
      ]
    },
    {
      "cell_type": "code",
      "metadata": {
        "colab": {
          "base_uri": "https://localhost:8080/"
        },
        "id": "7FXWON1gj3Cm",
        "outputId": "a0b6acf1-3a0e-4a5d-8a78-968cc4eb7368"
      },
      "source": [
        "joint_Y, joint_ques, joint_loss, joint_batch_first_loss = train(opt, ques, ques_reduce)"
      ],
      "execution_count": 15,
      "outputs": [
        {
          "output_type": "stream",
          "text": [
            "\r  0%|          | 0/300 [00:00<?, ?it/s]"
          ],
          "name": "stderr"
        },
        {
          "output_type": "stream",
          "text": [
            "Batches to run: 18\n",
            "torch.Size([5020, 128])\n",
            "Preprocessing the data using PCA...\n"
          ],
          "name": "stdout"
        },
        {
          "output_type": "stream",
          "text": [
            "\r  0%|          | 1/300 [00:00<02:07,  2.35it/s]"
          ],
          "name": "stderr"
        },
        {
          "output_type": "stream",
          "text": [
            "iteration 0, error 155125.96327261976, dis 844874.0367273802\n"
          ],
          "name": "stdout"
        },
        {
          "output_type": "stream",
          "text": [
            " 17%|█▋        | 51/300 [00:21<01:43,  2.40it/s]"
          ],
          "name": "stderr"
        },
        {
          "output_type": "stream",
          "text": [
            "iteration 50, error 36175.62013965198, dis 129604.46023432945\n"
          ],
          "name": "stdout"
        },
        {
          "output_type": "stream",
          "text": [
            " 34%|███▎      | 101/300 [00:42<01:24,  2.36it/s]"
          ],
          "name": "stderr"
        },
        {
          "output_type": "stream",
          "text": [
            "iteration 100, error 35675.38153919473, dis 104.95319815885159\n"
          ],
          "name": "stdout"
        },
        {
          "output_type": "stream",
          "text": [
            " 50%|█████     | 151/300 [01:03<01:01,  2.42it/s]"
          ],
          "name": "stderr"
        },
        {
          "output_type": "stream",
          "text": [
            "iteration 150, error 34801.02235526723, dis 3.730632960294315\n"
          ],
          "name": "stdout"
        },
        {
          "output_type": "stream",
          "text": [
            " 67%|██████▋   | 201/300 [01:24<00:41,  2.38it/s]"
          ],
          "name": "stderr"
        },
        {
          "output_type": "stream",
          "text": [
            "iteration 200, error 34666.66153353121, dis -66.19882719776069\n"
          ],
          "name": "stdout"
        },
        {
          "output_type": "stream",
          "text": [
            " 84%|████████▎ | 251/300 [01:45<00:20,  2.35it/s]"
          ],
          "name": "stderr"
        },
        {
          "output_type": "stream",
          "text": [
            "iteration 250, error 34481.82398567829, dis -30.131203820288647\n"
          ],
          "name": "stdout"
        },
        {
          "output_type": "stream",
          "text": [
            "100%|██████████| 300/300 [02:05<00:00,  2.39it/s]\n",
            "  0%|          | 0/300 [00:00<?, ?it/s]"
          ],
          "name": "stderr"
        },
        {
          "output_type": "stream",
          "text": [
            "torch.Size([5020, 128])\n",
            "Preprocessing the data using PCA...\n"
          ],
          "name": "stdout"
        },
        {
          "output_type": "stream",
          "text": [
            "\r  0%|          | 1/300 [00:00<02:00,  2.49it/s]"
          ],
          "name": "stderr"
        },
        {
          "output_type": "stream",
          "text": [
            "iteration 0, error 354720.2565072463, dis 645279.7434927537\n"
          ],
          "name": "stdout"
        },
        {
          "output_type": "stream",
          "text": [
            " 17%|█▋        | 51/300 [00:21<01:45,  2.35it/s]"
          ],
          "name": "stderr"
        },
        {
          "output_type": "stream",
          "text": [
            "iteration 50, error 78475.8744948559, dis 278661.9716099745\n"
          ],
          "name": "stdout"
        },
        {
          "output_type": "stream",
          "text": [
            " 34%|███▎      | 101/300 [00:42<01:25,  2.33it/s]"
          ],
          "name": "stderr"
        },
        {
          "output_type": "stream",
          "text": [
            "iteration 100, error 78664.86054210529, dis -14.87104104620812\n"
          ],
          "name": "stdout"
        },
        {
          "output_type": "stream",
          "text": [
            " 50%|█████     | 151/300 [01:03<01:03,  2.36it/s]"
          ],
          "name": "stderr"
        },
        {
          "output_type": "stream",
          "text": [
            "iteration 150, error 103414.20189800057, dis 211.19644064755994\n"
          ],
          "name": "stdout"
        },
        {
          "output_type": "stream",
          "text": [
            " 67%|██████▋   | 201/300 [01:24<00:41,  2.38it/s]"
          ],
          "name": "stderr"
        },
        {
          "output_type": "stream",
          "text": [
            "iteration 200, error 91229.81300341246, dis 396.2117739307432\n"
          ],
          "name": "stdout"
        },
        {
          "output_type": "stream",
          "text": [
            " 84%|████████▎ | 251/300 [01:46<00:20,  2.37it/s]"
          ],
          "name": "stderr"
        },
        {
          "output_type": "stream",
          "text": [
            "iteration 250, error 84231.56767634953, dis 31.060729324395652\n"
          ],
          "name": "stdout"
        },
        {
          "output_type": "stream",
          "text": [
            "100%|██████████| 300/300 [02:06<00:00,  2.37it/s]\n",
            "  0%|          | 0/300 [00:00<?, ?it/s]"
          ],
          "name": "stderr"
        },
        {
          "output_type": "stream",
          "text": [
            "torch.Size([5020, 128])\n",
            "Preprocessing the data using PCA...\n"
          ],
          "name": "stdout"
        },
        {
          "output_type": "stream",
          "text": [
            "\r  0%|          | 1/300 [00:00<02:06,  2.37it/s]"
          ],
          "name": "stderr"
        },
        {
          "output_type": "stream",
          "text": [
            "iteration 0, error 90298.65233013286, dis 909701.3476698671\n"
          ],
          "name": "stdout"
        },
        {
          "output_type": "stream",
          "text": [
            " 17%|█▋        | 51/300 [00:21<01:46,  2.33it/s]"
          ],
          "name": "stderr"
        },
        {
          "output_type": "stream",
          "text": [
            "iteration 50, error 19600.836413095225, dis 71168.91341940711\n"
          ],
          "name": "stdout"
        },
        {
          "output_type": "stream",
          "text": [
            " 34%|███▎      | 101/300 [00:42<01:23,  2.38it/s]"
          ],
          "name": "stderr"
        },
        {
          "output_type": "stream",
          "text": [
            "iteration 100, error 19670.38009009308, dis -4.521925706030743\n"
          ],
          "name": "stdout"
        },
        {
          "output_type": "stream",
          "text": [
            " 50%|█████     | 151/300 [01:03<01:02,  2.38it/s]"
          ],
          "name": "stderr"
        },
        {
          "output_type": "stream",
          "text": [
            "iteration 150, error 26231.702258192774, dis -19.928711285108875\n"
          ],
          "name": "stdout"
        },
        {
          "output_type": "stream",
          "text": [
            " 67%|██████▋   | 201/300 [01:25<00:42,  2.33it/s]"
          ],
          "name": "stderr"
        },
        {
          "output_type": "stream",
          "text": [
            "iteration 200, error 22940.98813238522, dis 82.8074610212243\n"
          ],
          "name": "stdout"
        },
        {
          "output_type": "stream",
          "text": [
            " 84%|████████▎ | 251/300 [01:46<00:20,  2.39it/s]"
          ],
          "name": "stderr"
        },
        {
          "output_type": "stream",
          "text": [
            "iteration 250, error 21310.006659824045, dis -4.391495402302098\n"
          ],
          "name": "stdout"
        },
        {
          "output_type": "stream",
          "text": [
            "100%|██████████| 300/300 [02:06<00:00,  2.36it/s]\n",
            "  0%|          | 0/300 [00:00<?, ?it/s]"
          ],
          "name": "stderr"
        },
        {
          "output_type": "stream",
          "text": [
            "torch.Size([5020, 128])\n",
            "Preprocessing the data using PCA...\n"
          ],
          "name": "stdout"
        },
        {
          "output_type": "stream",
          "text": [
            "\r  0%|          | 1/300 [00:00<02:07,  2.35it/s]"
          ],
          "name": "stderr"
        },
        {
          "output_type": "stream",
          "text": [
            "iteration 0, error 69390.9314124338, dis 930609.0685875663\n"
          ],
          "name": "stdout"
        },
        {
          "output_type": "stream",
          "text": [
            " 17%|█▋        | 51/300 [00:21<01:44,  2.38it/s]"
          ],
          "name": "stderr"
        },
        {
          "output_type": "stream",
          "text": [
            "iteration 50, error 14910.467014879145, dis 54469.49981898263\n"
          ],
          "name": "stdout"
        },
        {
          "output_type": "stream",
          "text": [
            " 34%|███▎      | 101/300 [00:42<01:24,  2.36it/s]"
          ],
          "name": "stderr"
        },
        {
          "output_type": "stream",
          "text": [
            "iteration 100, error 15060.146477229639, dis -33.9819101344292\n"
          ],
          "name": "stdout"
        },
        {
          "output_type": "stream",
          "text": [
            " 50%|█████     | 151/300 [01:04<01:02,  2.37it/s]"
          ],
          "name": "stderr"
        },
        {
          "output_type": "stream",
          "text": [
            "iteration 150, error 16412.229943561095, dis 60.59744209301789\n"
          ],
          "name": "stdout"
        },
        {
          "output_type": "stream",
          "text": [
            " 67%|██████▋   | 201/300 [01:25<00:41,  2.36it/s]"
          ],
          "name": "stderr"
        },
        {
          "output_type": "stream",
          "text": [
            "iteration 200, error 15480.904374114654, dis -0.9494825154397404\n"
          ],
          "name": "stdout"
        },
        {
          "output_type": "stream",
          "text": [
            " 84%|████████▎ | 251/300 [01:46<00:20,  2.41it/s]"
          ],
          "name": "stderr"
        },
        {
          "output_type": "stream",
          "text": [
            "iteration 250, error 15328.75132937075, dis -7.161431567377804\n"
          ],
          "name": "stdout"
        },
        {
          "output_type": "stream",
          "text": [
            "100%|██████████| 300/300 [02:06<00:00,  2.37it/s]\n",
            "  0%|          | 0/300 [00:00<?, ?it/s]"
          ],
          "name": "stderr"
        },
        {
          "output_type": "stream",
          "text": [
            "torch.Size([5020, 128])\n",
            "Preprocessing the data using PCA...\n"
          ],
          "name": "stdout"
        },
        {
          "output_type": "stream",
          "text": [
            "\r  0%|          | 1/300 [00:00<02:07,  2.34it/s]"
          ],
          "name": "stderr"
        },
        {
          "output_type": "stream",
          "text": [
            "iteration 0, error 101318.39238721928, dis 898681.6076127808\n"
          ],
          "name": "stdout"
        },
        {
          "output_type": "stream",
          "text": [
            " 17%|█▋        | 51/300 [00:21<01:46,  2.35it/s]"
          ],
          "name": "stderr"
        },
        {
          "output_type": "stream",
          "text": [
            "iteration 50, error 22052.042443497558, dis 79895.74175364964\n"
          ],
          "name": "stdout"
        },
        {
          "output_type": "stream",
          "text": [
            " 34%|███▎      | 101/300 [00:42<01:23,  2.37it/s]"
          ],
          "name": "stderr"
        },
        {
          "output_type": "stream",
          "text": [
            "iteration 100, error 23180.291371744734, dis -254.72895027208142\n"
          ],
          "name": "stdout"
        },
        {
          "output_type": "stream",
          "text": [
            " 50%|█████     | 151/300 [01:03<01:01,  2.40it/s]"
          ],
          "name": "stderr"
        },
        {
          "output_type": "stream",
          "text": [
            "iteration 150, error 25726.679144889593, dis 134.18104412203684\n"
          ],
          "name": "stdout"
        },
        {
          "output_type": "stream",
          "text": [
            " 67%|██████▋   | 201/300 [01:25<00:41,  2.40it/s]"
          ],
          "name": "stderr"
        },
        {
          "output_type": "stream",
          "text": [
            "iteration 200, error 23290.581617063977, dis -16.434076710072986\n"
          ],
          "name": "stdout"
        },
        {
          "output_type": "stream",
          "text": [
            " 84%|████████▎ | 251/300 [01:46<00:20,  2.35it/s]"
          ],
          "name": "stderr"
        },
        {
          "output_type": "stream",
          "text": [
            "iteration 250, error 22645.633673011263, dis 20.626602646381798\n"
          ],
          "name": "stdout"
        },
        {
          "output_type": "stream",
          "text": [
            "100%|██████████| 300/300 [02:06<00:00,  2.37it/s]\n",
            "  0%|          | 0/300 [00:00<?, ?it/s]"
          ],
          "name": "stderr"
        },
        {
          "output_type": "stream",
          "text": [
            "torch.Size([5020, 128])\n",
            "Preprocessing the data using PCA...\n"
          ],
          "name": "stdout"
        },
        {
          "output_type": "stream",
          "text": [
            "\r  0%|          | 1/300 [00:00<02:10,  2.29it/s]"
          ],
          "name": "stderr"
        },
        {
          "output_type": "stream",
          "text": [
            "iteration 0, error 62835.69276602765, dis 937164.3072339724\n"
          ],
          "name": "stdout"
        },
        {
          "output_type": "stream",
          "text": [
            " 17%|█▋        | 51/300 [00:21<01:44,  2.39it/s]"
          ],
          "name": "stderr"
        },
        {
          "output_type": "stream",
          "text": [
            "iteration 50, error 13962.445042317984, dis 50404.23199041569\n"
          ],
          "name": "stdout"
        },
        {
          "output_type": "stream",
          "text": [
            " 34%|███▎      | 101/300 [00:42<01:26,  2.29it/s]"
          ],
          "name": "stderr"
        },
        {
          "output_type": "stream",
          "text": [
            "iteration 100, error 13915.711970903307, dis -5.640008992035291\n"
          ],
          "name": "stdout"
        },
        {
          "output_type": "stream",
          "text": [
            " 50%|█████     | 151/300 [01:04<01:02,  2.39it/s]"
          ],
          "name": "stderr"
        },
        {
          "output_type": "stream",
          "text": [
            "iteration 150, error 13813.787535415548, dis -2.786325768185634\n"
          ],
          "name": "stdout"
        },
        {
          "output_type": "stream",
          "text": [
            " 67%|██████▋   | 201/300 [01:25<00:42,  2.32it/s]"
          ],
          "name": "stderr"
        },
        {
          "output_type": "stream",
          "text": [
            "iteration 200, error 13809.37166142186, dis -11.372396403125094\n"
          ],
          "name": "stdout"
        },
        {
          "output_type": "stream",
          "text": [
            " 84%|████████▎ | 251/300 [01:46<00:20,  2.36it/s]"
          ],
          "name": "stderr"
        },
        {
          "output_type": "stream",
          "text": [
            "iteration 250, error 13773.334489512985, dis 18.822849914497056\n"
          ],
          "name": "stdout"
        },
        {
          "output_type": "stream",
          "text": [
            "100%|██████████| 300/300 [02:07<00:00,  2.36it/s]\n",
            "  0%|          | 0/300 [00:00<?, ?it/s]"
          ],
          "name": "stderr"
        },
        {
          "output_type": "stream",
          "text": [
            "torch.Size([5020, 128])\n",
            "Preprocessing the data using PCA...\n"
          ],
          "name": "stdout"
        },
        {
          "output_type": "stream",
          "text": [
            "\r  0%|          | 1/300 [00:00<02:01,  2.46it/s]"
          ],
          "name": "stderr"
        },
        {
          "output_type": "stream",
          "text": [
            "iteration 0, error 133933.337019891, dis 866066.662980109\n"
          ],
          "name": "stdout"
        },
        {
          "output_type": "stream",
          "text": [
            " 17%|█▋        | 51/300 [00:21<01:45,  2.36it/s]"
          ],
          "name": "stderr"
        },
        {
          "output_type": "stream",
          "text": [
            "iteration 50, error 30921.59342786324, dis 110287.197473385\n"
          ],
          "name": "stdout"
        },
        {
          "output_type": "stream",
          "text": [
            " 34%|███▎      | 101/300 [00:42<01:24,  2.36it/s]"
          ],
          "name": "stderr"
        },
        {
          "output_type": "stream",
          "text": [
            "iteration 100, error 29690.83543719205, dis 29.536862102995656\n"
          ],
          "name": "stdout"
        },
        {
          "output_type": "stream",
          "text": [
            " 50%|█████     | 151/300 [01:03<01:04,  2.30it/s]"
          ],
          "name": "stderr"
        },
        {
          "output_type": "stream",
          "text": [
            "iteration 150, error 29664.385216112292, dis 17.568680000265886\n"
          ],
          "name": "stdout"
        },
        {
          "output_type": "stream",
          "text": [
            " 67%|██████▋   | 201/300 [01:24<00:41,  2.38it/s]"
          ],
          "name": "stderr"
        },
        {
          "output_type": "stream",
          "text": [
            "iteration 200, error 29648.267046519257, dis 9.55822394214556\n"
          ],
          "name": "stdout"
        },
        {
          "output_type": "stream",
          "text": [
            " 84%|████████▎ | 251/300 [01:45<00:20,  2.42it/s]"
          ],
          "name": "stderr"
        },
        {
          "output_type": "stream",
          "text": [
            "iteration 250, error 29627.48271689551, dis 84.0284995938564\n"
          ],
          "name": "stdout"
        },
        {
          "output_type": "stream",
          "text": [
            "100%|██████████| 300/300 [02:06<00:00,  2.37it/s]\n",
            "  0%|          | 0/300 [00:00<?, ?it/s]"
          ],
          "name": "stderr"
        },
        {
          "output_type": "stream",
          "text": [
            "torch.Size([5020, 128])\n",
            "Preprocessing the data using PCA...\n"
          ],
          "name": "stdout"
        },
        {
          "output_type": "stream",
          "text": [
            "\r  0%|          | 1/300 [00:00<02:04,  2.40it/s]"
          ],
          "name": "stderr"
        },
        {
          "output_type": "stream",
          "text": [
            "iteration 0, error 699128.1908740302, dis 300871.80912596977\n"
          ],
          "name": "stdout"
        },
        {
          "output_type": "stream",
          "text": [
            " 17%|█▋        | 51/300 [00:21<01:45,  2.37it/s]"
          ],
          "name": "stderr"
        },
        {
          "output_type": "stream",
          "text": [
            "iteration 50, error 155229.1924334739, dis 546405.9046049347\n"
          ],
          "name": "stdout"
        },
        {
          "output_type": "stream",
          "text": [
            " 34%|███▎      | 101/300 [00:42<01:22,  2.41it/s]"
          ],
          "name": "stderr"
        },
        {
          "output_type": "stream",
          "text": [
            "iteration 100, error 157480.707730948, dis -259.06489144518855\n"
          ],
          "name": "stdout"
        },
        {
          "output_type": "stream",
          "text": [
            " 50%|█████     | 151/300 [01:03<01:01,  2.42it/s]"
          ],
          "name": "stderr"
        },
        {
          "output_type": "stream",
          "text": [
            "iteration 150, error 179836.97731437325, dis 466.9479233107413\n"
          ],
          "name": "stdout"
        },
        {
          "output_type": "stream",
          "text": [
            " 67%|██████▋   | 201/300 [01:24<00:41,  2.36it/s]"
          ],
          "name": "stderr"
        },
        {
          "output_type": "stream",
          "text": [
            "iteration 200, error 162942.80554313786, dis 77.06583501488785\n"
          ],
          "name": "stdout"
        },
        {
          "output_type": "stream",
          "text": [
            " 84%|████████▎ | 251/300 [01:45<00:20,  2.36it/s]"
          ],
          "name": "stderr"
        },
        {
          "output_type": "stream",
          "text": [
            "iteration 250, error 159218.60620940218, dis 20.51094991530408\n"
          ],
          "name": "stdout"
        },
        {
          "output_type": "stream",
          "text": [
            "100%|██████████| 300/300 [02:05<00:00,  2.38it/s]\n",
            "  0%|          | 0/300 [00:00<?, ?it/s]"
          ],
          "name": "stderr"
        },
        {
          "output_type": "stream",
          "text": [
            "torch.Size([5020, 128])\n",
            "Preprocessing the data using PCA...\n"
          ],
          "name": "stdout"
        },
        {
          "output_type": "stream",
          "text": [
            "\r  0%|          | 1/300 [00:00<02:09,  2.31it/s]"
          ],
          "name": "stderr"
        },
        {
          "output_type": "stream",
          "text": [
            "iteration 0, error 41452.16433796571, dis 958547.8356620343\n"
          ],
          "name": "stdout"
        },
        {
          "output_type": "stream",
          "text": [
            " 17%|█▋        | 51/300 [00:21<01:45,  2.36it/s]"
          ],
          "name": "stderr"
        },
        {
          "output_type": "stream",
          "text": [
            "iteration 50, error 9149.261890451124, dis 33738.90088373199\n"
          ],
          "name": "stdout"
        },
        {
          "output_type": "stream",
          "text": [
            " 34%|███▎      | 101/300 [00:42<01:22,  2.42it/s]"
          ],
          "name": "stderr"
        },
        {
          "output_type": "stream",
          "text": [
            "iteration 100, error 9049.352410723817, dis 3.3886190195698873\n"
          ],
          "name": "stdout"
        },
        {
          "output_type": "stream",
          "text": [
            " 50%|█████     | 151/300 [01:03<01:02,  2.37it/s]"
          ],
          "name": "stderr"
        },
        {
          "output_type": "stream",
          "text": [
            "iteration 150, error 9028.4740266565, dis 31.772616996111537\n"
          ],
          "name": "stdout"
        },
        {
          "output_type": "stream",
          "text": [
            " 67%|██████▋   | 201/300 [01:24<00:41,  2.38it/s]"
          ],
          "name": "stderr"
        },
        {
          "output_type": "stream",
          "text": [
            "iteration 200, error 9017.086733698363, dis 23.994153963743884\n"
          ],
          "name": "stdout"
        },
        {
          "output_type": "stream",
          "text": [
            " 84%|████████▎ | 251/300 [01:45<00:20,  2.39it/s]"
          ],
          "name": "stderr"
        },
        {
          "output_type": "stream",
          "text": [
            "iteration 250, error 9029.82532922411, dis 18.484360522597854\n"
          ],
          "name": "stdout"
        },
        {
          "output_type": "stream",
          "text": [
            "100%|██████████| 300/300 [02:06<00:00,  2.37it/s]\n",
            "  0%|          | 0/300 [00:00<?, ?it/s]"
          ],
          "name": "stderr"
        },
        {
          "output_type": "stream",
          "text": [
            "torch.Size([5020, 128])\n",
            "Preprocessing the data using PCA...\n"
          ],
          "name": "stdout"
        },
        {
          "output_type": "stream",
          "text": [
            "\r  0%|          | 1/300 [00:00<02:04,  2.41it/s]"
          ],
          "name": "stderr"
        },
        {
          "output_type": "stream",
          "text": [
            "iteration 0, error 26520.520483007636, dis 973479.4795169923\n"
          ],
          "name": "stdout"
        },
        {
          "output_type": "stream",
          "text": [
            " 17%|█▋        | 51/300 [00:21<01:45,  2.35it/s]"
          ],
          "name": "stderr"
        },
        {
          "output_type": "stream",
          "text": [
            "iteration 50, error 5713.8158164595125, dis 21241.80845964843\n"
          ],
          "name": "stdout"
        },
        {
          "output_type": "stream",
          "text": [
            " 34%|███▎      | 101/300 [00:42<01:24,  2.35it/s]"
          ],
          "name": "stderr"
        },
        {
          "output_type": "stream",
          "text": [
            "iteration 100, error 5776.545042251253, dis -13.67559672673815\n"
          ],
          "name": "stdout"
        },
        {
          "output_type": "stream",
          "text": [
            " 50%|█████     | 151/300 [01:03<01:05,  2.28it/s]"
          ],
          "name": "stderr"
        },
        {
          "output_type": "stream",
          "text": [
            "iteration 150, error 5756.2286286966355, dis 4.9946534965311\n"
          ],
          "name": "stdout"
        },
        {
          "output_type": "stream",
          "text": [
            " 67%|██████▋   | 201/300 [01:25<00:43,  2.30it/s]"
          ],
          "name": "stderr"
        },
        {
          "output_type": "stream",
          "text": [
            "iteration 200, error 5751.466494463934, dis 21.320986492140037\n"
          ],
          "name": "stdout"
        },
        {
          "output_type": "stream",
          "text": [
            " 84%|████████▎ | 251/300 [01:46<00:21,  2.30it/s]"
          ],
          "name": "stderr"
        },
        {
          "output_type": "stream",
          "text": [
            "iteration 250, error 5746.432115990907, dis 9.921090548405118\n"
          ],
          "name": "stdout"
        },
        {
          "output_type": "stream",
          "text": [
            "100%|██████████| 300/300 [02:07<00:00,  2.36it/s]\n",
            "  0%|          | 0/300 [00:00<?, ?it/s]"
          ],
          "name": "stderr"
        },
        {
          "output_type": "stream",
          "text": [
            "torch.Size([5020, 128])\n",
            "Preprocessing the data using PCA...\n"
          ],
          "name": "stdout"
        },
        {
          "output_type": "stream",
          "text": [
            "\r  0%|          | 1/300 [00:00<02:07,  2.35it/s]"
          ],
          "name": "stderr"
        },
        {
          "output_type": "stream",
          "text": [
            "iteration 0, error 128119.39827223799, dis 871880.601727762\n"
          ],
          "name": "stdout"
        },
        {
          "output_type": "stream",
          "text": [
            " 17%|█▋        | 51/300 [00:21<01:43,  2.40it/s]"
          ],
          "name": "stderr"
        },
        {
          "output_type": "stream",
          "text": [
            "iteration 50, error 27843.005630659627, dis 100548.06832041587\n"
          ],
          "name": "stdout"
        },
        {
          "output_type": "stream",
          "text": [
            " 34%|███▎      | 101/300 [00:42<01:24,  2.37it/s]"
          ],
          "name": "stderr"
        },
        {
          "output_type": "stream",
          "text": [
            "iteration 100, error 27974.13986455216, dis -10.932731953344046\n"
          ],
          "name": "stdout"
        },
        {
          "output_type": "stream",
          "text": [
            " 50%|█████     | 151/300 [01:03<01:04,  2.32it/s]"
          ],
          "name": "stderr"
        },
        {
          "output_type": "stream",
          "text": [
            "iteration 150, error 31406.907855515547, dis 158.44921608902223\n"
          ],
          "name": "stdout"
        },
        {
          "output_type": "stream",
          "text": [
            " 67%|██████▋   | 201/300 [01:24<00:41,  2.41it/s]"
          ],
          "name": "stderr"
        },
        {
          "output_type": "stream",
          "text": [
            "iteration 200, error 28934.22807953979, dis 48.67499698867323\n"
          ],
          "name": "stdout"
        },
        {
          "output_type": "stream",
          "text": [
            " 84%|████████▎ | 251/300 [01:45<00:20,  2.38it/s]"
          ],
          "name": "stderr"
        },
        {
          "output_type": "stream",
          "text": [
            "iteration 250, error 28515.50602627714, dis 21.58848897496864\n"
          ],
          "name": "stdout"
        },
        {
          "output_type": "stream",
          "text": [
            "100%|██████████| 300/300 [02:06<00:00,  2.37it/s]\n",
            "  0%|          | 0/300 [00:00<?, ?it/s]"
          ],
          "name": "stderr"
        },
        {
          "output_type": "stream",
          "text": [
            "torch.Size([5020, 128])\n",
            "Preprocessing the data using PCA...\n"
          ],
          "name": "stdout"
        },
        {
          "output_type": "stream",
          "text": [
            "\r  0%|          | 1/300 [00:00<02:05,  2.38it/s]"
          ],
          "name": "stderr"
        },
        {
          "output_type": "stream",
          "text": [
            "iteration 0, error 35275.857075333406, dis 964724.1429246666\n"
          ],
          "name": "stdout"
        },
        {
          "output_type": "stream",
          "text": [
            " 17%|█▋        | 51/300 [00:21<01:44,  2.37it/s]"
          ],
          "name": "stderr"
        },
        {
          "output_type": "stream",
          "text": [
            "iteration 50, error 8043.09219991701, dis 28864.739582251306\n"
          ],
          "name": "stdout"
        },
        {
          "output_type": "stream",
          "text": [
            " 34%|███▎      | 101/300 [00:43<01:27,  2.28it/s]"
          ],
          "name": "stderr"
        },
        {
          "output_type": "stream",
          "text": [
            "iteration 100, error 8348.90339403208, dis 43.055116241223004\n"
          ],
          "name": "stdout"
        },
        {
          "output_type": "stream",
          "text": [
            " 50%|█████     | 151/300 [01:04<01:01,  2.41it/s]"
          ],
          "name": "stderr"
        },
        {
          "output_type": "stream",
          "text": [
            "iteration 150, error 7700.900994654896, dis 4.298880827798712\n"
          ],
          "name": "stdout"
        },
        {
          "output_type": "stream",
          "text": [
            " 67%|██████▋   | 201/300 [01:25<00:42,  2.35it/s]"
          ],
          "name": "stderr"
        },
        {
          "output_type": "stream",
          "text": [
            "iteration 200, error 7673.3833799116055, dis 13.140377528528916\n"
          ],
          "name": "stdout"
        },
        {
          "output_type": "stream",
          "text": [
            " 84%|████████▎ | 251/300 [01:46<00:20,  2.40it/s]"
          ],
          "name": "stderr"
        },
        {
          "output_type": "stream",
          "text": [
            "iteration 250, error 7665.706154469315, dis 18.289118485516155\n"
          ],
          "name": "stdout"
        },
        {
          "output_type": "stream",
          "text": [
            "100%|██████████| 300/300 [02:07<00:00,  2.36it/s]\n",
            "  0%|          | 0/300 [00:00<?, ?it/s]"
          ],
          "name": "stderr"
        },
        {
          "output_type": "stream",
          "text": [
            "torch.Size([5020, 128])\n",
            "Preprocessing the data using PCA...\n"
          ],
          "name": "stdout"
        },
        {
          "output_type": "stream",
          "text": [
            "\r  0%|          | 1/300 [00:00<02:07,  2.35it/s]"
          ],
          "name": "stderr"
        },
        {
          "output_type": "stream",
          "text": [
            "iteration 0, error 103607.2549801089, dis 896392.7450198911\n"
          ],
          "name": "stdout"
        },
        {
          "output_type": "stream",
          "text": [
            " 17%|█▋        | 51/300 [00:21<01:46,  2.35it/s]"
          ],
          "name": "stderr"
        },
        {
          "output_type": "stream",
          "text": [
            "iteration 50, error 22437.188322321363, dis 81326.27065426775\n"
          ],
          "name": "stdout"
        },
        {
          "output_type": "stream",
          "text": [
            " 34%|███▎      | 101/300 [00:42<01:23,  2.40it/s]"
          ],
          "name": "stderr"
        },
        {
          "output_type": "stream",
          "text": [
            "iteration 100, error 26036.359042781765, dis -919.9279597939021\n"
          ],
          "name": "stdout"
        },
        {
          "output_type": "stream",
          "text": [
            " 50%|█████     | 151/300 [01:03<01:02,  2.39it/s]"
          ],
          "name": "stderr"
        },
        {
          "output_type": "stream",
          "text": [
            "iteration 150, error 26705.976408960974, dis 8.697836008366721\n"
          ],
          "name": "stdout"
        },
        {
          "output_type": "stream",
          "text": [
            " 67%|██████▋   | 201/300 [01:24<00:41,  2.38it/s]"
          ],
          "name": "stderr"
        },
        {
          "output_type": "stream",
          "text": [
            "iteration 200, error 23866.147991426256, dis 12.312446864383674\n"
          ],
          "name": "stdout"
        },
        {
          "output_type": "stream",
          "text": [
            " 84%|████████▎ | 251/300 [01:45<00:20,  2.40it/s]"
          ],
          "name": "stderr"
        },
        {
          "output_type": "stream",
          "text": [
            "iteration 250, error 23218.381610643453, dis 29.448216829547164\n"
          ],
          "name": "stdout"
        },
        {
          "output_type": "stream",
          "text": [
            "100%|██████████| 300/300 [02:06<00:00,  2.37it/s]\n",
            "  0%|          | 0/300 [00:00<?, ?it/s]"
          ],
          "name": "stderr"
        },
        {
          "output_type": "stream",
          "text": [
            "torch.Size([5020, 128])\n",
            "Preprocessing the data using PCA...\n"
          ],
          "name": "stdout"
        },
        {
          "output_type": "stream",
          "text": [
            "\r  0%|          | 1/300 [00:00<02:02,  2.44it/s]"
          ],
          "name": "stderr"
        },
        {
          "output_type": "stream",
          "text": [
            "iteration 0, error 73259.23276382322, dis 926740.7672361768\n"
          ],
          "name": "stdout"
        },
        {
          "output_type": "stream",
          "text": [
            " 17%|█▋        | 51/300 [00:20<01:45,  2.37it/s]"
          ],
          "name": "stderr"
        },
        {
          "output_type": "stream",
          "text": [
            "iteration 50, error 16062.397740736702, dis 58312.44844503392\n"
          ],
          "name": "stdout"
        },
        {
          "output_type": "stream",
          "text": [
            " 34%|███▎      | 101/300 [00:41<01:22,  2.42it/s]"
          ],
          "name": "stderr"
        },
        {
          "output_type": "stream",
          "text": [
            "iteration 100, error 16138.978369814266, dis 3.357039298125528\n"
          ],
          "name": "stdout"
        },
        {
          "output_type": "stream",
          "text": [
            " 50%|█████     | 151/300 [01:02<01:03,  2.36it/s]"
          ],
          "name": "stderr"
        },
        {
          "output_type": "stream",
          "text": [
            "iteration 150, error 16091.020258432096, dis 9.703644149178217\n"
          ],
          "name": "stdout"
        },
        {
          "output_type": "stream",
          "text": [
            " 67%|██████▋   | 201/300 [01:23<00:40,  2.42it/s]"
          ],
          "name": "stderr"
        },
        {
          "output_type": "stream",
          "text": [
            "iteration 200, error 16124.767414860602, dis -14.05221367697959\n"
          ],
          "name": "stdout"
        },
        {
          "output_type": "stream",
          "text": [
            " 84%|████████▎ | 251/300 [01:44<00:20,  2.43it/s]"
          ],
          "name": "stderr"
        },
        {
          "output_type": "stream",
          "text": [
            "iteration 250, error 16105.31125016638, dis 15.010215832751783\n"
          ],
          "name": "stdout"
        },
        {
          "output_type": "stream",
          "text": [
            "100%|██████████| 300/300 [02:05<00:00,  2.40it/s]\n",
            "  0%|          | 0/300 [00:00<?, ?it/s]"
          ],
          "name": "stderr"
        },
        {
          "output_type": "stream",
          "text": [
            "torch.Size([5020, 128])\n",
            "Preprocessing the data using PCA...\n"
          ],
          "name": "stdout"
        },
        {
          "output_type": "stream",
          "text": [
            "\r  0%|          | 1/300 [00:00<02:00,  2.48it/s]"
          ],
          "name": "stderr"
        },
        {
          "output_type": "stream",
          "text": [
            "iteration 0, error 278454.14238732844, dis 721545.8576126716\n"
          ],
          "name": "stdout"
        },
        {
          "output_type": "stream",
          "text": [
            " 17%|█▋        | 51/300 [00:20<01:42,  2.43it/s]"
          ],
          "name": "stderr"
        },
        {
          "output_type": "stream",
          "text": [
            "iteration 50, error 63559.18968725718, dis 219447.97550738847\n"
          ],
          "name": "stdout"
        },
        {
          "output_type": "stream",
          "text": [
            " 34%|███▎      | 101/300 [00:41<01:20,  2.47it/s]"
          ],
          "name": "stderr"
        },
        {
          "output_type": "stream",
          "text": [
            "iteration 100, error 62571.42780675282, dis 183.95172569110582\n"
          ],
          "name": "stdout"
        },
        {
          "output_type": "stream",
          "text": [
            " 50%|█████     | 151/300 [01:02<01:01,  2.44it/s]"
          ],
          "name": "stderr"
        },
        {
          "output_type": "stream",
          "text": [
            "iteration 150, error 62227.90237723477, dis -81.72316144611978\n"
          ],
          "name": "stdout"
        },
        {
          "output_type": "stream",
          "text": [
            " 67%|██████▋   | 201/300 [01:23<00:40,  2.46it/s]"
          ],
          "name": "stderr"
        },
        {
          "output_type": "stream",
          "text": [
            "iteration 200, error 62067.96920884006, dis 84.81395077865454\n"
          ],
          "name": "stdout"
        },
        {
          "output_type": "stream",
          "text": [
            " 84%|████████▎ | 251/300 [01:43<00:20,  2.42it/s]"
          ],
          "name": "stderr"
        },
        {
          "output_type": "stream",
          "text": [
            "iteration 250, error 62140.57643546832, dis -18.56225642784557\n"
          ],
          "name": "stdout"
        },
        {
          "output_type": "stream",
          "text": [
            "100%|██████████| 300/300 [02:03<00:00,  2.42it/s]\n",
            "  0%|          | 0/300 [00:00<?, ?it/s]"
          ],
          "name": "stderr"
        },
        {
          "output_type": "stream",
          "text": [
            "torch.Size([5020, 128])\n",
            "Preprocessing the data using PCA...\n"
          ],
          "name": "stdout"
        },
        {
          "output_type": "stream",
          "text": [
            "\r  0%|          | 1/300 [00:00<01:59,  2.50it/s]"
          ],
          "name": "stderr"
        },
        {
          "output_type": "stream",
          "text": [
            "iteration 0, error 146899.05185591293, dis 853100.9481440871\n"
          ],
          "name": "stdout"
        },
        {
          "output_type": "stream",
          "text": [
            " 17%|█▋        | 51/300 [00:21<01:41,  2.46it/s]"
          ],
          "name": "stderr"
        },
        {
          "output_type": "stream",
          "text": [
            "iteration 50, error 32138.844341064334, dis 115691.57666341658\n"
          ],
          "name": "stdout"
        },
        {
          "output_type": "stream",
          "text": [
            " 34%|███▎      | 101/300 [00:41<01:22,  2.42it/s]"
          ],
          "name": "stderr"
        },
        {
          "output_type": "stream",
          "text": [
            "iteration 100, error 32241.232027755977, dis -7.11581408274651\n"
          ],
          "name": "stdout"
        },
        {
          "output_type": "stream",
          "text": [
            " 50%|█████     | 151/300 [01:03<01:02,  2.37it/s]"
          ],
          "name": "stderr"
        },
        {
          "output_type": "stream",
          "text": [
            "iteration 150, error 42987.78892582009, dis 96.49918761100707\n"
          ],
          "name": "stdout"
        },
        {
          "output_type": "stream",
          "text": [
            " 67%|██████▋   | 201/300 [01:25<00:42,  2.33it/s]"
          ],
          "name": "stderr"
        },
        {
          "output_type": "stream",
          "text": [
            "iteration 200, error 38056.18502559417, dis 176.4242549184928\n"
          ],
          "name": "stdout"
        },
        {
          "output_type": "stream",
          "text": [
            " 84%|████████▎ | 251/300 [01:46<00:20,  2.34it/s]"
          ],
          "name": "stderr"
        },
        {
          "output_type": "stream",
          "text": [
            "iteration 250, error 35039.077790560084, dis 54.38148664248001\n"
          ],
          "name": "stdout"
        },
        {
          "output_type": "stream",
          "text": [
            "100%|██████████| 300/300 [02:07<00:00,  2.34it/s]\n",
            "  0%|          | 0/300 [00:00<?, ?it/s]"
          ],
          "name": "stderr"
        },
        {
          "output_type": "stream",
          "text": [
            "torch.Size([5020, 128])\n",
            "Preprocessing the data using PCA...\n"
          ],
          "name": "stdout"
        },
        {
          "output_type": "stream",
          "text": [
            "\r  0%|          | 1/300 [00:00<02:10,  2.28it/s]"
          ],
          "name": "stderr"
        },
        {
          "output_type": "stream",
          "text": [
            "iteration 0, error 137960.8283551003, dis 862039.1716448998\n"
          ],
          "name": "stdout"
        },
        {
          "output_type": "stream",
          "text": [
            " 17%|█▋        | 51/300 [00:22<01:49,  2.27it/s]"
          ],
          "name": "stderr"
        },
        {
          "output_type": "stream",
          "text": [
            "iteration 50, error 36669.216161484845, dis 128159.83635565494\n"
          ],
          "name": "stdout"
        },
        {
          "output_type": "stream",
          "text": [
            " 34%|███▎      | 101/300 [00:43<01:25,  2.32it/s]"
          ],
          "name": "stderr"
        },
        {
          "output_type": "stream",
          "text": [
            "iteration 100, error 33089.62126704345, dis 101.43494720911258\n"
          ],
          "name": "stdout"
        },
        {
          "output_type": "stream",
          "text": [
            " 50%|█████     | 151/300 [01:05<01:04,  2.30it/s]"
          ],
          "name": "stderr"
        },
        {
          "output_type": "stream",
          "text": [
            "iteration 150, error 31402.555259491688, dis 4.368423791544046\n"
          ],
          "name": "stdout"
        },
        {
          "output_type": "stream",
          "text": [
            " 67%|██████▋   | 201/300 [01:27<00:42,  2.31it/s]"
          ],
          "name": "stderr"
        },
        {
          "output_type": "stream",
          "text": [
            "iteration 200, error 31031.346847237586, dis -56.187440249941574\n"
          ],
          "name": "stdout"
        },
        {
          "output_type": "stream",
          "text": [
            " 84%|████████▎ | 251/300 [01:49<00:21,  2.27it/s]"
          ],
          "name": "stderr"
        },
        {
          "output_type": "stream",
          "text": [
            "iteration 250, error 30822.58093899474, dis -12.575702703048592\n"
          ],
          "name": "stdout"
        },
        {
          "output_type": "stream",
          "text": [
            "100%|██████████| 300/300 [02:10<00:00,  2.30it/s]\n",
            "  0%|          | 0/300 [00:00<?, ?it/s]"
          ],
          "name": "stderr"
        },
        {
          "output_type": "stream",
          "text": [
            "torch.Size([4247, 128])\n",
            "Preprocessing the data using PCA...\n"
          ],
          "name": "stdout"
        },
        {
          "output_type": "stream",
          "text": [
            "\r  0%|          | 1/300 [00:00<01:48,  2.74it/s]"
          ],
          "name": "stderr"
        },
        {
          "output_type": "stream",
          "text": [
            "iteration 0, error 757938.6680448977, dis 242061.33195510227\n"
          ],
          "name": "stdout"
        },
        {
          "output_type": "stream",
          "text": [
            " 17%|█▋        | 51/300 [00:18<01:28,  2.81it/s]"
          ],
          "name": "stderr"
        },
        {
          "output_type": "stream",
          "text": [
            "iteration 50, error 185460.73517297214, dis 623541.754750968\n"
          ],
          "name": "stdout"
        },
        {
          "output_type": "stream",
          "text": [
            " 34%|███▎      | 101/300 [00:36<01:10,  2.81it/s]"
          ],
          "name": "stderr"
        },
        {
          "output_type": "stream",
          "text": [
            "iteration 100, error 190945.57166672195, dis 219.56250381006976\n"
          ],
          "name": "stdout"
        },
        {
          "output_type": "stream",
          "text": [
            " 50%|█████     | 151/300 [00:54<00:54,  2.75it/s]"
          ],
          "name": "stderr"
        },
        {
          "output_type": "stream",
          "text": [
            "iteration 150, error 182405.3014681166, dis -41.643080463429214\n"
          ],
          "name": "stdout"
        },
        {
          "output_type": "stream",
          "text": [
            " 67%|██████▋   | 201/300 [01:12<00:36,  2.73it/s]"
          ],
          "name": "stderr"
        },
        {
          "output_type": "stream",
          "text": [
            "iteration 200, error 177564.24439201993, dis -398.54728590877494\n"
          ],
          "name": "stdout"
        },
        {
          "output_type": "stream",
          "text": [
            " 84%|████████▎ | 251/300 [01:30<00:17,  2.78it/s]"
          ],
          "name": "stderr"
        },
        {
          "output_type": "stream",
          "text": [
            "iteration 250, error 175000.835469281, dis -50.30551919521531\n"
          ],
          "name": "stdout"
        },
        {
          "output_type": "stream",
          "text": [
            "100%|██████████| 300/300 [01:47<00:00,  2.78it/s]"
          ],
          "name": "stderr"
        },
        {
          "output_type": "stream",
          "text": [
            "torch.Size([29727, 64])\n"
          ],
          "name": "stdout"
        },
        {
          "output_type": "stream",
          "text": [
            "\n"
          ],
          "name": "stderr"
        }
      ]
    },
    {
      "cell_type": "code",
      "metadata": {
        "id": "zxI8WMY-d4R3"
      },
      "source": [
        "path = f\"joint_prob_{opt.fuse_prob}_ws_{opt.window_size}_js_{opt.jump_size}_init_{opt.init_method}\"\n",
        "    # save output\n",
        "torch.save(joint_Y, f\"{path}.pt\")\n",
        "torch.save(joint_ques, f\"{path}_question_rep.pt\")\n",
        "torch.save(torch.tensor(joint_loss), f\"{path}_loss.pt\")\n",
        "torch.save(torch.tensor(joint_batch_first_loss), f\"{path}_batch_first_loss.pt\")"
      ],
      "execution_count": 18,
      "outputs": []
    },
    {
      "cell_type": "code",
      "metadata": {
        "colab": {
          "base_uri": "https://localhost:8080/"
        },
        "id": "6vH6KhVd6Hm0",
        "outputId": "4f060ae0-c103-4eed-c2c1-c4ddb89b4bfe"
      },
      "source": [
        "joint_Y, joint_ques, joint_loss, joint_batch_first_loss = train(opt, ques, ques_reduce)"
      ],
      "execution_count": 20,
      "outputs": [
        {
          "output_type": "stream",
          "text": [
            "\r  0%|          | 0/300 [00:00<?, ?it/s]"
          ],
          "name": "stderr"
        },
        {
          "output_type": "stream",
          "text": [
            "Batches to run: 18\n",
            "torch.Size([5000, 128])\n",
            "Preprocessing the data using PCA...\n"
          ],
          "name": "stdout"
        },
        {
          "output_type": "stream",
          "text": [
            "\r  0%|          | 1/300 [00:00<02:12,  2.26it/s]"
          ],
          "name": "stderr"
        },
        {
          "output_type": "stream",
          "text": [
            "iteration 0, error 35055.81030046245, dis 964944.1896995376\n"
          ],
          "name": "stdout"
        },
        {
          "output_type": "stream",
          "text": [
            " 17%|█▋        | 51/300 [00:22<01:47,  2.32it/s]"
          ],
          "name": "stderr"
        },
        {
          "output_type": "stream",
          "text": [
            "iteration 50, error 9202.873753658725, dis 32916.11261310939\n"
          ],
          "name": "stdout"
        },
        {
          "output_type": "stream",
          "text": [
            " 34%|███▎      | 101/300 [00:44<01:26,  2.31it/s]"
          ],
          "name": "stderr"
        },
        {
          "output_type": "stream",
          "text": [
            "iteration 100, error 7881.180533500811, dis 14.364610587270363\n"
          ],
          "name": "stdout"
        },
        {
          "output_type": "stream",
          "text": [
            " 50%|█████     | 151/300 [01:06<01:05,  2.28it/s]"
          ],
          "name": "stderr"
        },
        {
          "output_type": "stream",
          "text": [
            "iteration 150, error 7658.164624081887, dis 7.7934894430181885\n"
          ],
          "name": "stdout"
        },
        {
          "output_type": "stream",
          "text": [
            " 67%|██████▋   | 201/300 [01:27<00:43,  2.30it/s]"
          ],
          "name": "stderr"
        },
        {
          "output_type": "stream",
          "text": [
            "iteration 200, error 7638.88401052299, dis 5.4320263013460135\n"
          ],
          "name": "stdout"
        },
        {
          "output_type": "stream",
          "text": [
            " 84%|████████▎ | 251/300 [01:49<00:21,  2.30it/s]"
          ],
          "name": "stderr"
        },
        {
          "output_type": "stream",
          "text": [
            "iteration 250, error 7636.672307586097, dis -7.4457907450942\n"
          ],
          "name": "stdout"
        },
        {
          "output_type": "stream",
          "text": [
            "100%|██████████| 300/300 [02:11<00:00,  2.29it/s]\n",
            "  0%|          | 0/300 [00:00<?, ?it/s]"
          ],
          "name": "stderr"
        },
        {
          "output_type": "stream",
          "text": [
            "torch.Size([5020, 128])\n",
            "Preprocessing the data using PCA...\n"
          ],
          "name": "stdout"
        },
        {
          "output_type": "stream",
          "text": [
            "\r  0%|          | 1/300 [00:00<02:17,  2.17it/s]"
          ],
          "name": "stderr"
        },
        {
          "output_type": "stream",
          "text": [
            "iteration 0, error 51425.15593700593, dis 948574.8440629941\n"
          ],
          "name": "stdout"
        },
        {
          "output_type": "stream",
          "text": [
            " 17%|█▋        | 51/300 [00:22<01:48,  2.29it/s]"
          ],
          "name": "stderr"
        },
        {
          "output_type": "stream",
          "text": [
            "iteration 50, error 11007.291890568951, dis 40442.68034537926\n"
          ],
          "name": "stdout"
        },
        {
          "output_type": "stream",
          "text": [
            " 34%|███▎      | 101/300 [00:44<01:28,  2.26it/s]"
          ],
          "name": "stderr"
        },
        {
          "output_type": "stream",
          "text": [
            "iteration 100, error 11039.599655246033, dis -2.211362891281169\n"
          ],
          "name": "stdout"
        },
        {
          "output_type": "stream",
          "text": [
            " 50%|█████     | 151/300 [01:05<01:04,  2.32it/s]"
          ],
          "name": "stderr"
        },
        {
          "output_type": "stream",
          "text": [
            "iteration 150, error 12347.27082065097, dis 26.66295684990473\n"
          ],
          "name": "stdout"
        },
        {
          "output_type": "stream",
          "text": [
            " 67%|██████▋   | 201/300 [01:27<00:42,  2.32it/s]"
          ],
          "name": "stderr"
        },
        {
          "output_type": "stream",
          "text": [
            "iteration 200, error 11446.163393320974, dis 14.483444215777126\n"
          ],
          "name": "stdout"
        },
        {
          "output_type": "stream",
          "text": [
            " 84%|████████▎ | 251/300 [01:49<00:21,  2.32it/s]"
          ],
          "name": "stderr"
        },
        {
          "output_type": "stream",
          "text": [
            "iteration 250, error 11329.87166227065, dis -18.727664736203224\n"
          ],
          "name": "stdout"
        },
        {
          "output_type": "stream",
          "text": [
            "100%|██████████| 300/300 [02:10<00:00,  2.29it/s]\n",
            "  0%|          | 0/300 [00:00<?, ?it/s]"
          ],
          "name": "stderr"
        },
        {
          "output_type": "stream",
          "text": [
            "torch.Size([5020, 128])\n",
            "Preprocessing the data using PCA...\n"
          ],
          "name": "stdout"
        },
        {
          "output_type": "stream",
          "text": [
            "\r  0%|          | 1/300 [00:00<02:11,  2.27it/s]"
          ],
          "name": "stderr"
        },
        {
          "output_type": "stream",
          "text": [
            "iteration 0, error 358699.9055069868, dis 641300.0944930132\n"
          ],
          "name": "stdout"
        },
        {
          "output_type": "stream",
          "text": [
            " 17%|█▋        | 51/300 [00:21<01:44,  2.39it/s]"
          ],
          "name": "stderr"
        },
        {
          "output_type": "stream",
          "text": [
            "iteration 50, error 78957.76387767319, dis 280508.02234693064\n"
          ],
          "name": "stdout"
        },
        {
          "output_type": "stream",
          "text": [
            " 34%|███▎      | 101/300 [00:43<01:25,  2.32it/s]"
          ],
          "name": "stderr"
        },
        {
          "output_type": "stream",
          "text": [
            "iteration 100, error 86640.41864656557, dis 564.4107725254144\n"
          ],
          "name": "stdout"
        },
        {
          "output_type": "stream",
          "text": [
            " 50%|█████     | 151/300 [01:04<01:02,  2.38it/s]"
          ],
          "name": "stderr"
        },
        {
          "output_type": "stream",
          "text": [
            "iteration 150, error 80310.85619528109, dis -43.6900844656775\n"
          ],
          "name": "stdout"
        },
        {
          "output_type": "stream",
          "text": [
            " 67%|██████▋   | 201/300 [01:25<00:41,  2.39it/s]"
          ],
          "name": "stderr"
        },
        {
          "output_type": "stream",
          "text": [
            "iteration 200, error 80264.5127156396, dis -40.74892719008494\n"
          ],
          "name": "stdout"
        },
        {
          "output_type": "stream",
          "text": [
            " 84%|████████▎ | 251/300 [01:46<00:20,  2.37it/s]"
          ],
          "name": "stderr"
        },
        {
          "output_type": "stream",
          "text": [
            "iteration 250, error 80195.00897506901, dis -126.71661751437932\n"
          ],
          "name": "stdout"
        },
        {
          "output_type": "stream",
          "text": [
            "100%|██████████| 300/300 [02:07<00:00,  2.36it/s]\n",
            "  0%|          | 0/300 [00:00<?, ?it/s]"
          ],
          "name": "stderr"
        },
        {
          "output_type": "stream",
          "text": [
            "torch.Size([5000, 128])\n",
            "Preprocessing the data using PCA...\n"
          ],
          "name": "stdout"
        },
        {
          "output_type": "stream",
          "text": [
            "\r  0%|          | 1/300 [00:00<02:04,  2.41it/s]"
          ],
          "name": "stderr"
        },
        {
          "output_type": "stream",
          "text": [
            "iteration 0, error 95589.53308157076, dis 904410.4669184292\n"
          ],
          "name": "stdout"
        },
        {
          "output_type": "stream",
          "text": [
            " 17%|█▋        | 51/300 [00:21<01:45,  2.35it/s]"
          ],
          "name": "stderr"
        },
        {
          "output_type": "stream",
          "text": [
            "iteration 50, error 20988.370737445075, dis 76168.23808053251\n"
          ],
          "name": "stdout"
        },
        {
          "output_type": "stream",
          "text": [
            " 34%|███▎      | 101/300 [00:42<01:25,  2.33it/s]"
          ],
          "name": "stderr"
        },
        {
          "output_type": "stream",
          "text": [
            "iteration 100, error 21144.428008443174, dis 34.03280433238615\n"
          ],
          "name": "stdout"
        },
        {
          "output_type": "stream",
          "text": [
            " 50%|█████     | 151/300 [01:03<01:02,  2.39it/s]"
          ],
          "name": "stderr"
        },
        {
          "output_type": "stream",
          "text": [
            "iteration 150, error 21094.10703404026, dis 0.49840776810378884\n"
          ],
          "name": "stdout"
        },
        {
          "output_type": "stream",
          "text": [
            " 67%|██████▋   | 201/300 [01:25<00:41,  2.37it/s]"
          ],
          "name": "stderr"
        },
        {
          "output_type": "stream",
          "text": [
            "iteration 200, error 21072.529467589367, dis 3.446922676765098\n"
          ],
          "name": "stdout"
        },
        {
          "output_type": "stream",
          "text": [
            " 84%|████████▎ | 251/300 [01:46<00:21,  2.33it/s]"
          ],
          "name": "stderr"
        },
        {
          "output_type": "stream",
          "text": [
            "iteration 250, error 21107.51563925098, dis -1.1969319699965126\n"
          ],
          "name": "stdout"
        },
        {
          "output_type": "stream",
          "text": [
            "100%|██████████| 300/300 [02:06<00:00,  2.36it/s]\n",
            "  0%|          | 0/300 [00:00<?, ?it/s]"
          ],
          "name": "stderr"
        },
        {
          "output_type": "stream",
          "text": [
            "torch.Size([5000, 128])\n",
            "Preprocessing the data using PCA...\n"
          ],
          "name": "stdout"
        },
        {
          "output_type": "stream",
          "text": [
            "\r  0%|          | 1/300 [00:00<02:08,  2.32it/s]"
          ],
          "name": "stderr"
        },
        {
          "output_type": "stream",
          "text": [
            "iteration 0, error 129754.91592637936, dis 870245.0840736206\n"
          ],
          "name": "stdout"
        },
        {
          "output_type": "stream",
          "text": [
            " 17%|█▋        | 51/300 [00:21<01:44,  2.39it/s]"
          ],
          "name": "stderr"
        },
        {
          "output_type": "stream",
          "text": [
            "iteration 50, error 28178.017441257012, dis 101711.09766880487\n"
          ],
          "name": "stdout"
        },
        {
          "output_type": "stream",
          "text": [
            " 34%|███▎      | 101/300 [00:42<01:22,  2.40it/s]"
          ],
          "name": "stderr"
        },
        {
          "output_type": "stream",
          "text": [
            "iteration 100, error 29352.949571175952, dis 45.50139691671211\n"
          ],
          "name": "stdout"
        },
        {
          "output_type": "stream",
          "text": [
            " 50%|█████     | 151/300 [01:03<01:01,  2.42it/s]"
          ],
          "name": "stderr"
        },
        {
          "output_type": "stream",
          "text": [
            "iteration 150, error 28753.37152737247, dis -10.531862016836385\n"
          ],
          "name": "stdout"
        },
        {
          "output_type": "stream",
          "text": [
            " 67%|██████▋   | 201/300 [01:24<00:41,  2.38it/s]"
          ],
          "name": "stderr"
        },
        {
          "output_type": "stream",
          "text": [
            "iteration 200, error 28762.816507037005, dis 64.00887548827814\n"
          ],
          "name": "stdout"
        },
        {
          "output_type": "stream",
          "text": [
            " 84%|████████▎ | 251/300 [01:45<00:20,  2.38it/s]"
          ],
          "name": "stderr"
        },
        {
          "output_type": "stream",
          "text": [
            "iteration 250, error 28769.74961081821, dis -24.61097839586364\n"
          ],
          "name": "stdout"
        },
        {
          "output_type": "stream",
          "text": [
            "100%|██████████| 300/300 [02:06<00:00,  2.38it/s]\n",
            "  0%|          | 0/300 [00:00<?, ?it/s]"
          ],
          "name": "stderr"
        },
        {
          "output_type": "stream",
          "text": [
            "torch.Size([5020, 128])\n",
            "Preprocessing the data using PCA...\n"
          ],
          "name": "stdout"
        },
        {
          "output_type": "stream",
          "text": [
            "\r  0%|          | 1/300 [00:00<02:05,  2.39it/s]"
          ],
          "name": "stderr"
        },
        {
          "output_type": "stream",
          "text": [
            "iteration 0, error 202751.36352727556, dis 797248.6364727244\n"
          ],
          "name": "stdout"
        },
        {
          "output_type": "stream",
          "text": [
            " 17%|█▋        | 51/300 [00:21<01:43,  2.39it/s]"
          ],
          "name": "stderr"
        },
        {
          "output_type": "stream",
          "text": [
            "iteration 50, error 45322.50510331618, dis 161211.37268248634\n"
          ],
          "name": "stdout"
        },
        {
          "output_type": "stream",
          "text": [
            " 34%|███▎      | 101/300 [00:42<01:22,  2.41it/s]"
          ],
          "name": "stderr"
        },
        {
          "output_type": "stream",
          "text": [
            "iteration 100, error 45093.175755025644, dis -48.71848243055865\n"
          ],
          "name": "stdout"
        },
        {
          "output_type": "stream",
          "text": [
            " 50%|█████     | 151/300 [01:03<01:01,  2.43it/s]"
          ],
          "name": "stderr"
        },
        {
          "output_type": "stream",
          "text": [
            "iteration 150, error 45101.073646316036, dis -90.75363209677744\n"
          ],
          "name": "stdout"
        },
        {
          "output_type": "stream",
          "text": [
            " 67%|██████▋   | 201/300 [01:24<00:42,  2.35it/s]"
          ],
          "name": "stderr"
        },
        {
          "output_type": "stream",
          "text": [
            "iteration 200, error 45135.36341308092, dis -86.6340849130138\n"
          ],
          "name": "stdout"
        },
        {
          "output_type": "stream",
          "text": [
            " 84%|████████▎ | 251/300 [01:45<00:21,  2.33it/s]"
          ],
          "name": "stderr"
        },
        {
          "output_type": "stream",
          "text": [
            "iteration 250, error 45153.234966137476, dis -62.4427735771751\n"
          ],
          "name": "stdout"
        },
        {
          "output_type": "stream",
          "text": [
            "100%|██████████| 300/300 [02:06<00:00,  2.37it/s]\n",
            "  0%|          | 0/300 [00:00<?, ?it/s]"
          ],
          "name": "stderr"
        },
        {
          "output_type": "stream",
          "text": [
            "torch.Size([5020, 128])\n",
            "Preprocessing the data using PCA...\n"
          ],
          "name": "stdout"
        },
        {
          "output_type": "stream",
          "text": [
            "\r  0%|          | 1/300 [00:00<02:03,  2.41it/s]"
          ],
          "name": "stderr"
        },
        {
          "output_type": "stream",
          "text": [
            "iteration 0, error 219040.20645352296, dis 780959.7935464771\n"
          ],
          "name": "stdout"
        },
        {
          "output_type": "stream",
          "text": [
            " 17%|█▋        | 51/300 [00:21<01:44,  2.38it/s]"
          ],
          "name": "stderr"
        },
        {
          "output_type": "stream",
          "text": [
            "iteration 50, error 48110.47470459855, dis 172113.97306493667\n"
          ],
          "name": "stdout"
        },
        {
          "output_type": "stream",
          "text": [
            " 34%|███▎      | 101/300 [00:42<01:23,  2.39it/s]"
          ],
          "name": "stderr"
        },
        {
          "output_type": "stream",
          "text": [
            "iteration 100, error 48184.698132248304, dis -5.443202495531295\n"
          ],
          "name": "stdout"
        },
        {
          "output_type": "stream",
          "text": [
            " 50%|█████     | 151/300 [01:03<01:04,  2.32it/s]"
          ],
          "name": "stderr"
        },
        {
          "output_type": "stream",
          "text": [
            "iteration 150, error 60164.97715011312, dis -1718.3805275521008\n"
          ],
          "name": "stdout"
        },
        {
          "output_type": "stream",
          "text": [
            " 67%|██████▋   | 201/300 [01:24<00:41,  2.39it/s]"
          ],
          "name": "stderr"
        },
        {
          "output_type": "stream",
          "text": [
            "iteration 200, error 59654.26159501331, dis 106.88035163767927\n"
          ],
          "name": "stdout"
        },
        {
          "output_type": "stream",
          "text": [
            " 84%|████████▎ | 251/300 [01:45<00:20,  2.40it/s]"
          ],
          "name": "stderr"
        },
        {
          "output_type": "stream",
          "text": [
            "iteration 250, error 53372.965204064516, dis 61.293330652231816\n"
          ],
          "name": "stdout"
        },
        {
          "output_type": "stream",
          "text": [
            "100%|██████████| 300/300 [02:06<00:00,  2.38it/s]\n",
            "  0%|          | 0/300 [00:00<?, ?it/s]"
          ],
          "name": "stderr"
        },
        {
          "output_type": "stream",
          "text": [
            "torch.Size([5020, 128])\n",
            "Preprocessing the data using PCA...\n"
          ],
          "name": "stdout"
        },
        {
          "output_type": "stream",
          "text": [
            "\r  0%|          | 1/300 [00:00<02:05,  2.39it/s]"
          ],
          "name": "stderr"
        },
        {
          "output_type": "stream",
          "text": [
            "iteration 0, error 58745.01938514404, dis 941254.980614856\n"
          ],
          "name": "stdout"
        },
        {
          "output_type": "stream",
          "text": [
            " 17%|█▋        | 51/300 [00:21<01:44,  2.38it/s]"
          ],
          "name": "stderr"
        },
        {
          "output_type": "stream",
          "text": [
            "iteration 50, error 13435.324736089946, dis 48722.6038151952\n"
          ],
          "name": "stdout"
        },
        {
          "output_type": "stream",
          "text": [
            " 34%|███▎      | 101/300 [00:42<01:21,  2.43it/s]"
          ],
          "name": "stderr"
        },
        {
          "output_type": "stream",
          "text": [
            "iteration 100, error 13069.688999969203, dis -1.236305360969709\n"
          ],
          "name": "stdout"
        },
        {
          "output_type": "stream",
          "text": [
            " 50%|█████     | 151/300 [01:03<01:02,  2.38it/s]"
          ],
          "name": "stderr"
        },
        {
          "output_type": "stream",
          "text": [
            "iteration 150, error 12972.141277196093, dis -9.472362293032347\n"
          ],
          "name": "stdout"
        },
        {
          "output_type": "stream",
          "text": [
            " 67%|██████▋   | 201/300 [01:24<00:41,  2.40it/s]"
          ],
          "name": "stderr"
        },
        {
          "output_type": "stream",
          "text": [
            "iteration 200, error 12945.855871363694, dis -8.742248762859163\n"
          ],
          "name": "stdout"
        },
        {
          "output_type": "stream",
          "text": [
            " 84%|████████▎ | 251/300 [01:45<00:20,  2.39it/s]"
          ],
          "name": "stderr"
        },
        {
          "output_type": "stream",
          "text": [
            "iteration 250, error 12896.465414743949, dis 17.767904936217747\n"
          ],
          "name": "stdout"
        },
        {
          "output_type": "stream",
          "text": [
            "100%|██████████| 300/300 [02:06<00:00,  2.38it/s]\n",
            "  0%|          | 0/300 [00:00<?, ?it/s]"
          ],
          "name": "stderr"
        },
        {
          "output_type": "stream",
          "text": [
            "torch.Size([5020, 128])\n",
            "Preprocessing the data using PCA...\n"
          ],
          "name": "stdout"
        },
        {
          "output_type": "stream",
          "text": [
            "\r  0%|          | 1/300 [00:00<02:18,  2.16it/s]"
          ],
          "name": "stderr"
        },
        {
          "output_type": "stream",
          "text": [
            "iteration 0, error 396993.86767205526, dis 603006.1323279447\n"
          ],
          "name": "stdout"
        },
        {
          "output_type": "stream",
          "text": [
            " 17%|█▋        | 51/300 [00:21<01:43,  2.41it/s]"
          ],
          "name": "stderr"
        },
        {
          "output_type": "stream",
          "text": [
            "iteration 50, error 88094.06605879203, dis 311346.7850120347\n"
          ],
          "name": "stdout"
        },
        {
          "output_type": "stream",
          "text": [
            " 34%|███▎      | 101/300 [00:42<01:23,  2.40it/s]"
          ],
          "name": "stderr"
        },
        {
          "output_type": "stream",
          "text": [
            "iteration 100, error 89204.98553084946, dis -5.330087431430002\n"
          ],
          "name": "stdout"
        },
        {
          "output_type": "stream",
          "text": [
            " 50%|█████     | 151/300 [01:03<01:02,  2.40it/s]"
          ],
          "name": "stderr"
        },
        {
          "output_type": "stream",
          "text": [
            "iteration 150, error 88892.80106179952, dis 36.17541312277899\n"
          ],
          "name": "stdout"
        },
        {
          "output_type": "stream",
          "text": [
            " 67%|██████▋   | 201/300 [01:24<00:41,  2.40it/s]"
          ],
          "name": "stderr"
        },
        {
          "output_type": "stream",
          "text": [
            "iteration 200, error 88935.38938906879, dis -60.22935853002127\n"
          ],
          "name": "stdout"
        },
        {
          "output_type": "stream",
          "text": [
            " 84%|████████▎ | 251/300 [01:45<00:20,  2.39it/s]"
          ],
          "name": "stderr"
        },
        {
          "output_type": "stream",
          "text": [
            "iteration 250, error 88956.3595670276, dis 29.378558074851753\n"
          ],
          "name": "stdout"
        },
        {
          "output_type": "stream",
          "text": [
            "100%|██████████| 300/300 [02:06<00:00,  2.37it/s]\n",
            "  0%|          | 0/300 [00:00<?, ?it/s]"
          ],
          "name": "stderr"
        },
        {
          "output_type": "stream",
          "text": [
            "torch.Size([5000, 128])\n",
            "Preprocessing the data using PCA...\n"
          ],
          "name": "stdout"
        },
        {
          "output_type": "stream",
          "text": [
            "\r  0%|          | 1/300 [00:00<02:10,  2.29it/s]"
          ],
          "name": "stderr"
        },
        {
          "output_type": "stream",
          "text": [
            "iteration 0, error 168552.79425497644, dis 831447.2057450236\n"
          ],
          "name": "stdout"
        },
        {
          "output_type": "stream",
          "text": [
            " 17%|█▋        | 51/300 [00:21<01:44,  2.39it/s]"
          ],
          "name": "stderr"
        },
        {
          "output_type": "stream",
          "text": [
            "iteration 50, error 38776.79298314222, dis 139018.58859873397\n"
          ],
          "name": "stdout"
        },
        {
          "output_type": "stream",
          "text": [
            " 34%|███▎      | 101/300 [00:42<01:22,  2.40it/s]"
          ],
          "name": "stderr"
        },
        {
          "output_type": "stream",
          "text": [
            "iteration 100, error 37426.07982269985, dis -17.862583695845387\n"
          ],
          "name": "stdout"
        },
        {
          "output_type": "stream",
          "text": [
            " 50%|█████     | 151/300 [01:03<01:04,  2.32it/s]"
          ],
          "name": "stderr"
        },
        {
          "output_type": "stream",
          "text": [
            "iteration 150, error 37389.65846149245, dis -0.631042864129995\n"
          ],
          "name": "stdout"
        },
        {
          "output_type": "stream",
          "text": [
            " 67%|██████▋   | 201/300 [01:24<00:42,  2.36it/s]"
          ],
          "name": "stderr"
        },
        {
          "output_type": "stream",
          "text": [
            "iteration 200, error 37411.26364880308, dis 58.396923621381575\n"
          ],
          "name": "stdout"
        },
        {
          "output_type": "stream",
          "text": [
            " 84%|████████▎ | 251/300 [01:45<00:20,  2.38it/s]"
          ],
          "name": "stderr"
        },
        {
          "output_type": "stream",
          "text": [
            "iteration 250, error 37434.87718448257, dis 0.8764452077884926\n"
          ],
          "name": "stdout"
        },
        {
          "output_type": "stream",
          "text": [
            "100%|██████████| 300/300 [02:06<00:00,  2.38it/s]\n",
            "  0%|          | 0/300 [00:00<?, ?it/s]"
          ],
          "name": "stderr"
        },
        {
          "output_type": "stream",
          "text": [
            "torch.Size([5020, 128])\n",
            "Preprocessing the data using PCA...\n"
          ],
          "name": "stdout"
        },
        {
          "output_type": "stream",
          "text": [
            "\r  0%|          | 1/300 [00:00<02:05,  2.39it/s]"
          ],
          "name": "stderr"
        },
        {
          "output_type": "stream",
          "text": [
            "iteration 0, error 40393.87785438, dis 959606.12214562\n"
          ],
          "name": "stdout"
        },
        {
          "output_type": "stream",
          "text": [
            " 17%|█▋        | 51/300 [00:21<01:41,  2.45it/s]"
          ],
          "name": "stderr"
        },
        {
          "output_type": "stream",
          "text": [
            "iteration 50, error 8716.150538539983, dis 32724.412058938553\n"
          ],
          "name": "stdout"
        },
        {
          "output_type": "stream",
          "text": [
            " 34%|███▎      | 101/300 [00:41<01:20,  2.47it/s]"
          ],
          "name": "stderr"
        },
        {
          "output_type": "stream",
          "text": [
            "iteration 100, error 11694.990408750682, dis 55.732572964911014\n"
          ],
          "name": "stdout"
        },
        {
          "output_type": "stream",
          "text": [
            " 50%|█████     | 151/300 [01:02<01:02,  2.40it/s]"
          ],
          "name": "stderr"
        },
        {
          "output_type": "stream",
          "text": [
            "iteration 150, error 9946.814147177069, dis 16.568958832362114\n"
          ],
          "name": "stdout"
        },
        {
          "output_type": "stream",
          "text": [
            " 67%|██████▋   | 201/300 [01:22<00:40,  2.46it/s]"
          ],
          "name": "stderr"
        },
        {
          "output_type": "stream",
          "text": [
            "iteration 200, error 9320.290452875877, dis -21.40980343784213\n"
          ],
          "name": "stdout"
        },
        {
          "output_type": "stream",
          "text": [
            " 84%|████████▎ | 251/300 [01:43<00:19,  2.48it/s]"
          ],
          "name": "stderr"
        },
        {
          "output_type": "stream",
          "text": [
            "iteration 250, error 9075.63168273358, dis -10.315297433877276\n"
          ],
          "name": "stdout"
        },
        {
          "output_type": "stream",
          "text": [
            "100%|██████████| 300/300 [02:03<00:00,  2.43it/s]\n",
            "  0%|          | 0/300 [00:00<?, ?it/s]"
          ],
          "name": "stderr"
        },
        {
          "output_type": "stream",
          "text": [
            "torch.Size([5000, 128])\n",
            "Preprocessing the data using PCA...\n"
          ],
          "name": "stdout"
        },
        {
          "output_type": "stream",
          "text": [
            "\r  0%|          | 1/300 [00:00<02:00,  2.47it/s]"
          ],
          "name": "stderr"
        },
        {
          "output_type": "stream",
          "text": [
            "iteration 0, error 66188.14692416975, dis 933811.8530758303\n"
          ],
          "name": "stdout"
        },
        {
          "output_type": "stream",
          "text": [
            " 17%|█▋        | 51/300 [00:20<01:42,  2.43it/s]"
          ],
          "name": "stderr"
        },
        {
          "output_type": "stream",
          "text": [
            "iteration 50, error 14605.308822994517, dis 53176.15911661579\n"
          ],
          "name": "stdout"
        },
        {
          "output_type": "stream",
          "text": [
            " 34%|███▎      | 101/300 [00:41<01:20,  2.48it/s]"
          ],
          "name": "stderr"
        },
        {
          "output_type": "stream",
          "text": [
            "iteration 100, error 14600.20494343571, dis -19.7547621136182\n"
          ],
          "name": "stdout"
        },
        {
          "output_type": "stream",
          "text": [
            " 50%|█████     | 151/300 [01:01<01:00,  2.46it/s]"
          ],
          "name": "stderr"
        },
        {
          "output_type": "stream",
          "text": [
            "iteration 150, error 14530.06165278269, dis 18.606220018937165\n"
          ],
          "name": "stdout"
        },
        {
          "output_type": "stream",
          "text": [
            " 67%|██████▋   | 201/300 [01:21<00:40,  2.43it/s]"
          ],
          "name": "stderr"
        },
        {
          "output_type": "stream",
          "text": [
            "iteration 200, error 14520.149060721611, dis 0.1184029276973888\n"
          ],
          "name": "stdout"
        },
        {
          "output_type": "stream",
          "text": [
            " 84%|████████▎ | 251/300 [01:42<00:20,  2.44it/s]"
          ],
          "name": "stderr"
        },
        {
          "output_type": "stream",
          "text": [
            "iteration 250, error 14555.850862540601, dis -28.42529454498981\n"
          ],
          "name": "stdout"
        },
        {
          "output_type": "stream",
          "text": [
            "100%|██████████| 300/300 [02:02<00:00,  2.46it/s]\n",
            "  0%|          | 0/300 [00:00<?, ?it/s]"
          ],
          "name": "stderr"
        },
        {
          "output_type": "stream",
          "text": [
            "torch.Size([5000, 128])\n",
            "Preprocessing the data using PCA...\n"
          ],
          "name": "stdout"
        },
        {
          "output_type": "stream",
          "text": [
            "\r  0%|          | 1/300 [00:00<01:57,  2.55it/s]"
          ],
          "name": "stderr"
        },
        {
          "output_type": "stream",
          "text": [
            "iteration 0, error 65885.86683108046, dis 934114.1331689195\n"
          ],
          "name": "stdout"
        },
        {
          "output_type": "stream",
          "text": [
            " 17%|█▋        | 51/300 [00:20<01:41,  2.44it/s]"
          ],
          "name": "stderr"
        },
        {
          "output_type": "stream",
          "text": [
            "iteration 50, error 14412.259031448857, dis 52461.511067060965\n"
          ],
          "name": "stdout"
        },
        {
          "output_type": "stream",
          "text": [
            " 34%|███▎      | 101/300 [00:40<01:19,  2.49it/s]"
          ],
          "name": "stderr"
        },
        {
          "output_type": "stream",
          "text": [
            "iteration 100, error 14490.080490119479, dis -8.90038557825028\n"
          ],
          "name": "stdout"
        },
        {
          "output_type": "stream",
          "text": [
            " 50%|█████     | 151/300 [01:01<01:00,  2.46it/s]"
          ],
          "name": "stderr"
        },
        {
          "output_type": "stream",
          "text": [
            "iteration 150, error 14489.21039608499, dis -16.987922219988832\n"
          ],
          "name": "stdout"
        },
        {
          "output_type": "stream",
          "text": [
            " 67%|██████▋   | 201/300 [01:21<00:40,  2.47it/s]"
          ],
          "name": "stderr"
        },
        {
          "output_type": "stream",
          "text": [
            "iteration 200, error 14463.268168843522, dis -4.895850840193816\n"
          ],
          "name": "stdout"
        },
        {
          "output_type": "stream",
          "text": [
            " 84%|████████▎ | 251/300 [01:42<00:19,  2.45it/s]"
          ],
          "name": "stderr"
        },
        {
          "output_type": "stream",
          "text": [
            "iteration 250, error 14473.946880110569, dis -1.2364831664672238\n"
          ],
          "name": "stdout"
        },
        {
          "output_type": "stream",
          "text": [
            "100%|██████████| 300/300 [02:01<00:00,  2.46it/s]\n",
            "  0%|          | 0/300 [00:00<?, ?it/s]"
          ],
          "name": "stderr"
        },
        {
          "output_type": "stream",
          "text": [
            "torch.Size([5000, 128])\n",
            "Preprocessing the data using PCA...\n"
          ],
          "name": "stdout"
        },
        {
          "output_type": "stream",
          "text": [
            "\r  0%|          | 1/300 [00:00<01:58,  2.52it/s]"
          ],
          "name": "stderr"
        },
        {
          "output_type": "stream",
          "text": [
            "iteration 0, error 175273.7650709945, dis 824726.2349290055\n"
          ],
          "name": "stdout"
        },
        {
          "output_type": "stream",
          "text": [
            " 17%|█▋        | 51/300 [00:20<01:41,  2.46it/s]"
          ],
          "name": "stderr"
        },
        {
          "output_type": "stream",
          "text": [
            "iteration 50, error 43414.87877885854, dis 153628.380223129\n"
          ],
          "name": "stdout"
        },
        {
          "output_type": "stream",
          "text": [
            " 34%|███▎      | 101/300 [00:40<01:20,  2.48it/s]"
          ],
          "name": "stderr"
        },
        {
          "output_type": "stream",
          "text": [
            "iteration 100, error 41900.71246955065, dis 53.307880086489604\n"
          ],
          "name": "stdout"
        },
        {
          "output_type": "stream",
          "text": [
            " 50%|█████     | 151/300 [01:01<00:59,  2.48it/s]"
          ],
          "name": "stderr"
        },
        {
          "output_type": "stream",
          "text": [
            "iteration 150, error 40745.64066495097, dis 109.26352293456875\n"
          ],
          "name": "stdout"
        },
        {
          "output_type": "stream",
          "text": [
            " 67%|██████▋   | 201/300 [01:21<00:40,  2.46it/s]"
          ],
          "name": "stderr"
        },
        {
          "output_type": "stream",
          "text": [
            "iteration 200, error 39967.792083890454, dis 33.688077694583626\n"
          ],
          "name": "stdout"
        },
        {
          "output_type": "stream",
          "text": [
            " 84%|████████▎ | 251/300 [01:41<00:19,  2.49it/s]"
          ],
          "name": "stderr"
        },
        {
          "output_type": "stream",
          "text": [
            "iteration 250, error 39686.450124127085, dis 10.64364866638789\n"
          ],
          "name": "stdout"
        },
        {
          "output_type": "stream",
          "text": [
            "100%|██████████| 300/300 [02:01<00:00,  2.47it/s]\n",
            "  0%|          | 0/300 [00:00<?, ?it/s]"
          ],
          "name": "stderr"
        },
        {
          "output_type": "stream",
          "text": [
            "torch.Size([5000, 128])\n",
            "Preprocessing the data using PCA...\n"
          ],
          "name": "stdout"
        },
        {
          "output_type": "stream",
          "text": [
            "\r  0%|          | 1/300 [00:00<01:56,  2.56it/s]"
          ],
          "name": "stderr"
        },
        {
          "output_type": "stream",
          "text": [
            "iteration 0, error 61712.805935584634, dis 938287.1940644154\n"
          ],
          "name": "stdout"
        },
        {
          "output_type": "stream",
          "text": [
            " 17%|█▋        | 51/300 [00:20<01:40,  2.47it/s]"
          ],
          "name": "stderr"
        },
        {
          "output_type": "stream",
          "text": [
            "iteration 50, error 13636.045893503786, dis 49719.67490236627\n"
          ],
          "name": "stdout"
        },
        {
          "output_type": "stream",
          "text": [
            " 34%|███▎      | 101/300 [00:41<01:20,  2.48it/s]"
          ],
          "name": "stderr"
        },
        {
          "output_type": "stream",
          "text": [
            "iteration 100, error 13552.056733146183, dis -6.327566392872541\n"
          ],
          "name": "stdout"
        },
        {
          "output_type": "stream",
          "text": [
            " 50%|█████     | 151/300 [01:01<01:01,  2.44it/s]"
          ],
          "name": "stderr"
        },
        {
          "output_type": "stream",
          "text": [
            "iteration 150, error 13525.456710909628, dis 17.357948556207702\n"
          ],
          "name": "stdout"
        },
        {
          "output_type": "stream",
          "text": [
            " 67%|██████▋   | 201/300 [01:21<00:39,  2.51it/s]"
          ],
          "name": "stderr"
        },
        {
          "output_type": "stream",
          "text": [
            "iteration 200, error 13524.800530618435, dis 41.518625099763085\n"
          ],
          "name": "stdout"
        },
        {
          "output_type": "stream",
          "text": [
            " 84%|████████▎ | 251/300 [01:41<00:19,  2.45it/s]"
          ],
          "name": "stderr"
        },
        {
          "output_type": "stream",
          "text": [
            "iteration 250, error 13544.681492382288, dis 4.708566268784125\n"
          ],
          "name": "stdout"
        },
        {
          "output_type": "stream",
          "text": [
            "100%|██████████| 300/300 [02:01<00:00,  2.46it/s]\n",
            "  0%|          | 0/300 [00:00<?, ?it/s]"
          ],
          "name": "stderr"
        },
        {
          "output_type": "stream",
          "text": [
            "torch.Size([5020, 128])\n",
            "Preprocessing the data using PCA...\n"
          ],
          "name": "stdout"
        },
        {
          "output_type": "stream",
          "text": [
            "\r  0%|          | 1/300 [00:00<02:04,  2.41it/s]"
          ],
          "name": "stderr"
        },
        {
          "output_type": "stream",
          "text": [
            "iteration 0, error 35436.485900147316, dis 964563.5140998526\n"
          ],
          "name": "stdout"
        },
        {
          "output_type": "stream",
          "text": [
            " 17%|█▋        | 51/300 [00:20<01:41,  2.46it/s]"
          ],
          "name": "stderr"
        },
        {
          "output_type": "stream",
          "text": [
            "iteration 50, error 7795.178596365182, dis 29238.13780541311\n"
          ],
          "name": "stdout"
        },
        {
          "output_type": "stream",
          "text": [
            " 34%|███▎      | 101/300 [00:40<01:22,  2.42it/s]"
          ],
          "name": "stderr"
        },
        {
          "output_type": "stream",
          "text": [
            "iteration 100, error 7731.950837367116, dis 5.7838910686041345\n"
          ],
          "name": "stdout"
        },
        {
          "output_type": "stream",
          "text": [
            " 50%|█████     | 151/300 [01:01<01:01,  2.42it/s]"
          ],
          "name": "stderr"
        },
        {
          "output_type": "stream",
          "text": [
            "iteration 150, error 7718.462482884079, dis -3.914108157271585\n"
          ],
          "name": "stdout"
        },
        {
          "output_type": "stream",
          "text": [
            " 67%|██████▋   | 201/300 [01:21<00:40,  2.46it/s]"
          ],
          "name": "stderr"
        },
        {
          "output_type": "stream",
          "text": [
            "iteration 200, error 7727.378841382628, dis -16.531738814104756\n"
          ],
          "name": "stdout"
        },
        {
          "output_type": "stream",
          "text": [
            " 84%|████████▎ | 251/300 [01:41<00:19,  2.49it/s]"
          ],
          "name": "stderr"
        },
        {
          "output_type": "stream",
          "text": [
            "iteration 250, error 7739.544240105108, dis -23.232428620119208\n"
          ],
          "name": "stdout"
        },
        {
          "output_type": "stream",
          "text": [
            "100%|██████████| 300/300 [02:02<00:00,  2.46it/s]\n",
            "  0%|          | 0/300 [00:00<?, ?it/s]"
          ],
          "name": "stderr"
        },
        {
          "output_type": "stream",
          "text": [
            "torch.Size([5020, 128])\n",
            "Preprocessing the data using PCA...\n"
          ],
          "name": "stdout"
        },
        {
          "output_type": "stream",
          "text": [
            "\r  0%|          | 1/300 [00:00<02:11,  2.27it/s]"
          ],
          "name": "stderr"
        },
        {
          "output_type": "stream",
          "text": [
            "iteration 0, error 78979.83888634687, dis 921020.1611136531\n"
          ],
          "name": "stdout"
        },
        {
          "output_type": "stream",
          "text": [
            " 17%|█▋        | 51/300 [00:20<01:41,  2.45it/s]"
          ],
          "name": "stderr"
        },
        {
          "output_type": "stream",
          "text": [
            "iteration 50, error 17017.396195920424, dis 61994.661214419284\n"
          ],
          "name": "stdout"
        },
        {
          "output_type": "stream",
          "text": [
            " 34%|███▎      | 101/300 [00:41<01:21,  2.44it/s]"
          ],
          "name": "stderr"
        },
        {
          "output_type": "stream",
          "text": [
            "iteration 100, error 19203.170688788137, dis 163.40272116271808\n"
          ],
          "name": "stdout"
        },
        {
          "output_type": "stream",
          "text": [
            " 50%|█████     | 151/300 [01:01<01:00,  2.48it/s]"
          ],
          "name": "stderr"
        },
        {
          "output_type": "stream",
          "text": [
            "iteration 150, error 17448.943582104745, dis 9.596025864237163\n"
          ],
          "name": "stdout"
        },
        {
          "output_type": "stream",
          "text": [
            " 67%|██████▋   | 201/300 [01:22<00:41,  2.41it/s]"
          ],
          "name": "stderr"
        },
        {
          "output_type": "stream",
          "text": [
            "iteration 200, error 17400.899779897933, dis -17.036228136887075\n"
          ],
          "name": "stdout"
        },
        {
          "output_type": "stream",
          "text": [
            " 84%|████████▎ | 251/300 [01:42<00:19,  2.48it/s]"
          ],
          "name": "stderr"
        },
        {
          "output_type": "stream",
          "text": [
            "iteration 250, error 17355.358215935907, dis 19.16731020707084\n"
          ],
          "name": "stdout"
        },
        {
          "output_type": "stream",
          "text": [
            "100%|██████████| 300/300 [02:02<00:00,  2.45it/s]\n",
            "  0%|          | 0/300 [00:00<?, ?it/s]"
          ],
          "name": "stderr"
        },
        {
          "output_type": "stream",
          "text": [
            "torch.Size([4247, 128])\n",
            "Preprocessing the data using PCA...\n"
          ],
          "name": "stdout"
        },
        {
          "output_type": "stream",
          "text": [
            "\r  0%|          | 1/300 [00:00<01:43,  2.89it/s]"
          ],
          "name": "stderr"
        },
        {
          "output_type": "stream",
          "text": [
            "iteration 0, error 264035.2424387032, dis 735964.7575612968\n"
          ],
          "name": "stdout"
        },
        {
          "output_type": "stream",
          "text": [
            " 17%|█▋        | 51/300 [00:17<01:24,  2.94it/s]"
          ],
          "name": "stderr"
        },
        {
          "output_type": "stream",
          "text": [
            "iteration 50, error 60002.203004558585, dis 212722.50205128337\n"
          ],
          "name": "stdout"
        },
        {
          "output_type": "stream",
          "text": [
            " 34%|███▎      | 101/300 [00:34<01:07,  2.93it/s]"
          ],
          "name": "stderr"
        },
        {
          "output_type": "stream",
          "text": [
            "iteration 100, error 91398.80932017922, dis -6.413349154725438\n"
          ],
          "name": "stdout"
        },
        {
          "output_type": "stream",
          "text": [
            " 50%|█████     | 151/300 [00:51<00:50,  2.94it/s]"
          ],
          "name": "stderr"
        },
        {
          "output_type": "stream",
          "text": [
            "iteration 150, error 78475.09543334125, dis 90.08983371613431\n"
          ],
          "name": "stdout"
        },
        {
          "output_type": "stream",
          "text": [
            " 67%|██████▋   | 201/300 [01:08<00:33,  2.93it/s]"
          ],
          "name": "stderr"
        },
        {
          "output_type": "stream",
          "text": [
            "iteration 200, error 67168.31844294793, dis 200.23241526592756\n"
          ],
          "name": "stdout"
        },
        {
          "output_type": "stream",
          "text": [
            " 84%|████████▎ | 251/300 [01:25<00:16,  2.91it/s]"
          ],
          "name": "stderr"
        },
        {
          "output_type": "stream",
          "text": [
            "iteration 250, error 62594.88011080022, dis 177.5318598382437\n"
          ],
          "name": "stdout"
        },
        {
          "output_type": "stream",
          "text": [
            "100%|██████████| 300/300 [01:42<00:00,  2.93it/s]"
          ],
          "name": "stderr"
        },
        {
          "output_type": "stream",
          "text": [
            "torch.Size([29727, 64])\n"
          ],
          "name": "stdout"
        },
        {
          "output_type": "stream",
          "text": [
            "\n"
          ],
          "name": "stderr"
        }
      ]
    },
    {
      "cell_type": "code",
      "metadata": {
        "id": "MTtvk4WVH-jr"
      },
      "source": [
        "path = f\"joint_prob_{opt.fuse_prob}_ws_{opt.window_size}_js_{opt.jump_size}_init_{opt.init_method}\"\n",
        "    # save output\n",
        "torch.save(joint_Y, f\"{path}.pt\")\n",
        "torch.save(joint_ques, f\"{path}_question_rep.pt\")\n",
        "torch.save(torch.tensor(joint_loss), f\"{path}_loss.pt\")\n",
        "torch.save(torch.tensor(joint_batch_first_loss), f\"{path}_batch_first_loss.pt\")"
      ],
      "execution_count": 21,
      "outputs": []
    },
    {
      "cell_type": "markdown",
      "metadata": {
        "id": "OYZ-g_bSMW6u"
      },
      "source": [
        "# Loss analysiss for joint t-sne"
      ]
    },
    {
      "cell_type": "code",
      "metadata": {
        "id": "CCuZrqUmMa0I"
      },
      "source": [
        "import matplotlib.pyplot as plt\n",
        "def plot_loss(loss_arr, zoom=False):\n",
        "  ax=plt.subplot(111)\n",
        "  x_axis = np.arange(0, len(loss_arr))\n",
        "  ax.plot(x_axis, np.array(loss_arr), color='r',linewidth=1.0)\n",
        "  if zoom:\n",
        "    ax.set_ylim(0,1e6)\n",
        "  plt.show()"
      ],
      "execution_count": 24,
      "outputs": []
    },
    {
      "cell_type": "markdown",
      "metadata": {
        "id": "MXaZzU6xUhvS"
      },
      "source": [
        "loss for **0.5**"
      ]
    },
    {
      "cell_type": "code",
      "metadata": {
        "colab": {
          "base_uri": "https://localhost:8080/",
          "height": 265
        },
        "id": "ijaHsxX1UTvP",
        "outputId": "e5ebbb75-760c-428a-cfa1-b23a1a6c920d"
      },
      "source": [
        "plot_loss(joint_loss)"
      ],
      "execution_count": 25,
      "outputs": [
        {
          "output_type": "display_data",
          "data": {
            "image/png": "[encoded data removed]",
            "text/plain": [
              "<Figure size 432x288 with 1 Axes>"
            ]
          },
          "metadata": {
            "tags": [],
            "needs_background": "light"
          }
        }
      ]
    },
    {
      "cell_type": "code",
      "metadata": {
        "colab": {
          "base_uri": "https://localhost:8080/",
          "height": 265
        },
        "id": "B57losPGUnG5",
        "outputId": "22bae960-3d18-47fd-d382-0dfba09e3c2b"
      },
      "source": [
        "# batch_first\n",
        "plot_loss(joint_batch_first_loss)"
      ],
      "execution_count": 26,
      "outputs": [
        {
          "output_type": "display_data",
          "data": {
            "image/png": "[encoded data removed]",
            "text/plain": [
              "<Figure size 432x288 with 1 Axes>"
            ]
          },
          "metadata": {
            "tags": [],
            "needs_background": "light"
          }
        }
      ]
    },
    {
      "cell_type": "code",
      "metadata": {
        "id": "jSL1JSGLU2Xk"
      },
      "source": [
        "p_1_loss = torch.load(\"/content/drive/MyDrive/ELI5/out/joint_prob_1.0_ws_5000_js_1500_init_pca_loss.pt\").detach().cpu().numpy()\n",
        "p_1_head_loss = torch.load(\"/content/drive/MyDrive/ELI5/out/joint_prob_1.0_ws_5000_js_1500_init_pca_batch_first_loss.pt\").detach().cpu().numpy()"
      ],
      "execution_count": 31,
      "outputs": []
    },
    {
      "cell_type": "code",
      "metadata": {
        "colab": {
          "base_uri": "https://localhost:8080/",
          "height": 265
        },
        "id": "9TaJ2NamVgc7",
        "outputId": "40313bcc-f8a2-456a-f561-b15528e2be53"
      },
      "source": [
        "plot_loss(p_1_loss)"
      ],
      "execution_count": 32,
      "outputs": [
        {
          "output_type": "display_data",
          "data": {
            "image/png": "[encoded data removed]",
            "text/plain": [
              "<Figure size 432x288 with 1 Axes>"
            ]
          },
          "metadata": {
            "tags": [],
            "needs_background": "light"
          }
        }
      ]
    },
    {
      "cell_type": "code",
      "metadata": {
        "colab": {
          "base_uri": "https://localhost:8080/",
          "height": 265
        },
        "id": "a-yve8bkVr1g",
        "outputId": "a7ea8833-eabc-4776-9fcb-17a54454b835"
      },
      "source": [
        "plot_loss(p_1_head_loss)"
      ],
      "execution_count": 34,
      "outputs": [
        {
          "output_type": "display_data",
          "data": {
            "image/png": "[encoded data removed]",
            "text/plain": [
              "<Figure size 432x288 with 1 Axes>"
            ]
          },
          "metadata": {
            "tags": [],
            "needs_background": "light"
          }
        }
      ]
    },
    {
      "cell_type": "markdown",
      "metadata": {
        "id": "69FTsGF7XKnv"
      },
      "source": [
        "# Evaluate our results w.r.t IDF recall"
      ]
    },
    {
      "cell_type": "markdown",
      "metadata": {
        "id": "xETPzsd0Xpkm"
      },
      "source": [
        "load wiki dataset / representations"
      ]
    },
    {
      "cell_type": "code",
      "metadata": {
        "id": "Kl192vJXYoz8"
      },
      "source": [
        "!pip install nlp\n",
        "!pip install apache_beam\n",
        "!pip install elasticsearch\n",
        "!pip install faiss_gpu\n",
        "!pip install transformers"
      ],
      "execution_count": null,
      "outputs": []
    },
    {
      "cell_type": "code",
      "metadata": {
        "id": "aCQPxsBKXsLS"
      },
      "source": [
        "import pickle as pkl\n",
        "import nlp\n",
        "import numpy as np\n",
        "import torch"
      ],
      "execution_count": 5,
      "outputs": []
    },
    {
      "cell_type": "code",
      "metadata": {
        "id": "nRt5VVT3XazQ"
      },
      "source": [
        "wiki30k_snippets = pkl.load(open(\"data/wiki/30k/wiki30k_dataset.pkl\",\"rb\"))"
      ],
      "execution_count": 6,
      "outputs": []
    },
    {
      "cell_type": "code",
      "metadata": {
        "id": "KWwgSrtTX9yv"
      },
      "source": [
        "wiki30k_snippets.column_names = ['_id', 'article_title', 'end_character', 'end_paragraph', 'nlp_id', 'passage_text', 'section_title', 'start_character', 'start_paragraph', 'wiki_id']"
      ],
      "execution_count": 7,
      "outputs": []
    },
    {
      "cell_type": "markdown",
      "metadata": {
        "id": "EOLQq3niX2RO"
      },
      "source": [
        "load question texts pairs"
      ]
    },
    {
      "cell_type": "code",
      "metadata": {
        "id": "ZduWZdVoXvT6"
      },
      "source": [
        "with open('data/Questions/20/test_qa_20.pickle', 'rb') as f:\n",
        "     test_qa_list_20  = pkl.load(f)"
      ],
      "execution_count": 8,
      "outputs": []
    },
    {
      "cell_type": "markdown",
      "metadata": {
        "id": "I6OxKzondJCz"
      },
      "source": [
        "Original 128D representation"
      ]
    },
    {
      "cell_type": "code",
      "metadata": {
        "id": "iiOv5-hGXyJn"
      },
      "source": [
        "wiki30k_passage_reps_orig = np.memmap(\n",
        "            'data/wiki/30k/wiki30k_reps.dat',\n",
        "            dtype='float32', mode='r',\n",
        "            shape=(wiki30k_snippets.num_rows, 128)\n",
        ")"
      ],
      "execution_count": 33,
      "outputs": []
    },
    {
      "cell_type": "code",
      "metadata": {
        "id": "9WjJcJ6nbMBq"
      },
      "source": [
        "with open('data/Questions/20/q_20_reps.npy', 'rb') as f:\n",
        "     q_rep_orig  = np.load(f)\n",
        "q_rep_orig = np.float32(q_rep_orig)"
      ],
      "execution_count": 52,
      "outputs": []
    },
    {
      "cell_type": "markdown",
      "metadata": {
        "id": "y6yL7w_0aAi3"
      },
      "source": [
        "Import from utils file, define idf_recall function"
      ]
    },
    {
      "cell_type": "code",
      "metadata": {
        "id": "oQ-1jcUMZIFn"
      },
      "source": [
        "from eval_utils import *"
      ],
      "execution_count": 9,
      "outputs": []
    },
    {
      "cell_type": "code",
      "metadata": {
        "id": "balhXWS6aJWR"
      },
      "source": [
        "def evaluate(wiki_reps, ques_reps, test_qa_list, d=64):\n",
        "  faiss_res = faiss.StandardGpuResources()\n",
        "  wiki30k_index_flat = faiss.IndexFlatIP(d)\n",
        "  wiki30k_gpu_index = faiss.index_cpu_to_gpu(faiss_res, 0, wiki30k_index_flat)\n",
        "\n",
        "  def dense_ret_for_eval(q_rep, n_ret):\n",
        "    _, dense_res_list = query_qa_dense_index(\n",
        "        q_rep, wiki30k_snippets, wiki30k_gpu_index, n_results=n_ret\n",
        "    )\n",
        "    dense_doc = ' '.join([res['passage_text'] for res in dense_res_list])\n",
        "    return dense_doc,dense_res_list\n",
        "\n",
        "  # The IDF-recall function is then:\n",
        "  def da_idf_recall(doc, answer):\n",
        "    d_words = dict([(w, True) for w in doc.lower().split()])\n",
        "    a_words = answer.lower().split()   \n",
        "    recall = sum([1. / math.log(1 + answer_doc_freq.get(w, 1)) for w in a_words if w in d_words]) / \\\n",
        "                sum([1. / math.log(1 + answer_doc_freq.get(w, 1)) for w in a_words])\n",
        "    return recall\n",
        "  # load representation\n",
        "\n",
        "  wiki30k_gpu_index.add(wiki_reps)\n",
        "\n",
        "  answer_doc_freq = {}\n",
        "  for q, a in test_qa_list:\n",
        "    for w in a.lower().split():\n",
        "        answer_doc_freq[w] = answer_doc_freq.get(w, 0) + 1\n",
        "  dense_score, all_dense_res_list= evaluate_retriever(test_qa_list, dense_ret_for_eval, da_idf_recall, ques_reps, d=d)\n",
        "  df = pd.DataFrame({\n",
        "    'IDF-Recall': [dense_score['idf_recall']],\n",
        "    'Time/Query': [dense_score['retrieval_time']],\n",
        "      }, index=['Dense'])\n",
        "  return df\n",
        "  "
      ],
      "execution_count": 81,
      "outputs": []
    },
    {
      "cell_type": "code",
      "metadata": {
        "id": "8wPvaNGGg2VQ"
      },
      "source": [
        "def get_rep(path):\n",
        "  rep = torch.load(path).detach().cpu().numpy()\n",
        "  return np.float32(rep)"
      ],
      "execution_count": 74,
      "outputs": []
    },
    {
      "cell_type": "markdown",
      "metadata": {
        "id": "1ILjApovi9q0"
      },
      "source": [
        "Original: 0.236188 / 0.008775"
      ]
    },
    {
      "cell_type": "code",
      "metadata": {
        "id": "WMki6f1TfrH8"
      },
      "source": [
        "df_orig = evaluate(wiki30k_passage_reps_orig, q_rep_orig, test_qa_list_20, d=128)"
      ],
      "execution_count": 108,
      "outputs": []
    },
    {
      "cell_type": "code",
      "metadata": {
        "colab": {
          "base_uri": "https://localhost:8080/"
        },
        "id": "-QDsEf5eglqr",
        "outputId": "922a073f-994f-42ae-9ae4-cb73b37d39b2"
      },
      "source": [
        "print(df_orig)"
      ],
      "execution_count": 109,
      "outputs": [
        {
          "output_type": "stream",
          "text": [
            "       IDF-Recall  Time/Query\n",
            "Dense    0.236188    0.008273\n"
          ],
          "name": "stdout"
        }
      ]
    },
    {
      "cell_type": "code",
      "metadata": {
        "id": "I1oz8lLPZN3Y"
      },
      "source": [
        "def get_joint_path(prob, opt=\"document\"):\n",
        "  if opt == \"document\":\n",
        "    return f\"/content/drive/MyDrive/ELI5/out/joint_prob_{prob}_ws_5000_js_1500_init_pca.pt\"\n",
        "  elif opt == \"question\":\n",
        "    return f\"/content/drive/MyDrive/ELI5/out/joint_prob_{prob}_ws_5000_js_1500_init_pca_question_rep.pt\"\n"
      ],
      "execution_count": 77,
      "outputs": []
    },
    {
      "cell_type": "code",
      "metadata": {
        "id": "4ZpTlmJzcDn4"
      },
      "source": [
        "w_rep_joint_0_5 = get_rep(get_joint_path(0.5, \"document\"))\n",
        "q_rep_joint_0_5 = get_rep(get_joint_path(0.5, \"question\"))"
      ],
      "execution_count": 78,
      "outputs": []
    },
    {
      "cell_type": "code",
      "metadata": {
        "id": "g17TnGtLiG8g"
      },
      "source": [
        "df_joint_p_0_5 = evaluate(w_rep_joint_0_5, q_rep_joint_0_5,test_qa_list_20, d=64)\n",
        "#df.style.format({'IDF-Recall': \"{:.4f}\", 'Time/Query': \"{:.4f}\"})\n",
        "#df.to_csv(str(qa_id)+\".csv\")"
      ],
      "execution_count": 82,
      "outputs": []
    },
    {
      "cell_type": "markdown",
      "metadata": {
        "id": "0Obg9rp3jC9p"
      },
      "source": [
        "joint_fully_fuse: 0.177896 / 0.012033"
      ]
    },
    {
      "cell_type": "code",
      "metadata": {
        "colab": {
          "base_uri": "https://localhost:8080/"
        },
        "id": "B8bp5FhTieDf",
        "outputId": "074b7a83-2620-4e8b-f1dd-8f4c152c97fb"
      },
      "source": [
        "print(df_joint_p_0_5)"
      ],
      "execution_count": 84,
      "outputs": [
        {
          "output_type": "stream",
          "text": [
            "       IDF-Recall  Time/Query\n",
            "Dense    0.177896    0.012033\n"
          ],
          "name": "stdout"
        }
      ]
    },
    {
      "cell_type": "code",
      "metadata": {
        "id": "hBsYnFHpiipI"
      },
      "source": [
        "w_rep_joint_1_0 = get_rep(get_joint_path(1.0, \"document\"))\n",
        "q_rep_joint_1_0 = get_rep(get_joint_path(1.0, \"question\"))"
      ],
      "execution_count": 86,
      "outputs": []
    },
    {
      "cell_type": "code",
      "metadata": {
        "id": "8KgYmVNnitzb"
      },
      "source": [
        "df_joint_p_0_5 = evaluate(w_rep_joint_1_0, q_rep_joint_1_0, test_qa_list_20, d=64)"
      ],
      "execution_count": 91,
      "outputs": []
    },
    {
      "cell_type": "markdown",
      "metadata": {
        "id": "uIo-lKT7jIOr"
      },
      "source": [
        "joint_half_fuse: 0.181268    0.011258"
      ]
    },
    {
      "cell_type": "code",
      "metadata": {
        "colab": {
          "base_uri": "https://localhost:8080/"
        },
        "id": "p0Q3Xb8Jix-f",
        "outputId": "5d9f51b9-cd8f-432c-9d6f-540571162fe1"
      },
      "source": [
        "print(df_joint_p_0_5)"
      ],
      "execution_count": 92,
      "outputs": [
        {
          "output_type": "stream",
          "text": [
            "       IDF-Recall  Time/Query\n",
            "Dense    0.181268    0.011157\n"
          ],
          "name": "stdout"
        }
      ]
    },
    {
      "cell_type": "markdown",
      "metadata": {
        "id": "ZhGfS-aYj7Zy"
      },
      "source": [
        "Retrieve Path for seperately reduced wiki / questions"
      ]
    },
    {
      "cell_type": "code",
      "metadata": {
        "id": "NguzUfxVjMyB"
      },
      "source": [
        "def get_sep_path(init, opt=\"document\"):\n",
        "  if opt == \"document\":\n",
        "    return f\"/content/drive/MyDrive/ELI5/out/wiki_reduced_only_300_iter/ws_5000_js_1500_init_{init}.pt\"\n",
        "  elif opt == \"question\":\n",
        "    return f\"/content/drive/MyDrive/ELI5/out/wiki_reduced_only_300_iter/ques20_init_pca.pt\"\n"
      ],
      "execution_count": 94,
      "outputs": []
    },
    {
      "cell_type": "code",
      "metadata": {
        "id": "Fl0FMNFlkDY8"
      },
      "source": [
        "q_sep = get_rep(get_sep_path(\"pca\", opt=\"question\"))\n",
        "w_sep_pca = get_rep(get_sep_path(\"pca\"))\n",
        "w_sep_rand = get_rep(get_sep_path(\"rand\"))"
      ],
      "execution_count": 97,
      "outputs": []
    },
    {
      "cell_type": "code",
      "metadata": {
        "colab": {
          "base_uri": "https://localhost:8080/"
        },
        "id": "m9ZJx6C3kUvu",
        "outputId": "c31d0c01-c3ec-4f01-928b-15179762a9fe"
      },
      "source": [
        "df_sep_pca = evaluate(w_sep_pca, q_sep, test_qa_list_20, d=64)\n",
        "print(df_sep_pca)"
      ],
      "execution_count": 107,
      "outputs": [
        {
          "output_type": "stream",
          "text": [
            "       IDF-Recall  Time/Query\n",
            "Dense    0.167944    0.004738\n"
          ],
          "name": "stdout"
        }
      ]
    },
    {
      "cell_type": "code",
      "metadata": {
        "colab": {
          "base_uri": "https://localhost:8080/"
        },
        "id": "zXPFsupbkmCj",
        "outputId": "a5c20c2a-d00a-4eea-a6c4-0ea55114e3c5"
      },
      "source": [
        "df_sep_rand = evaluate(w_sep_rand, q_sep, test_qa_list_20, d=64)\n",
        "print(df_sep_rand)"
      ],
      "execution_count": 106,
      "outputs": [
        {
          "output_type": "stream",
          "text": [
            "       IDF-Recall  Time/Query\n",
            "Dense    0.188951    0.006725\n"
          ],
          "name": "stdout"
        }
      ]
    },
    {
      "cell_type": "markdown",
      "metadata": {
        "id": "gX72XoKyl6Lp"
      },
      "source": [
        "Simply Truncate!"
      ]
    },
    {
      "cell_type": "code",
      "metadata": {
        "id": "I-ZLrx5FkxX5"
      },
      "source": [
        "w_truncate = wiki30k_passage_reps_orig.T[:64].T #!not continuous\n",
        "w_truncate = np.asarray(w_truncate, order='C')\n",
        "q_truncate = np.asarray(q_rep_orig.T[:64].T, order='C')"
      ],
      "execution_count": null,
      "outputs": []
    },
    {
      "cell_type": "code",
      "metadata": {
        "colab": {
          "base_uri": "https://localhost:8080/"
        },
        "id": "qHG2Z2lylDKc",
        "outputId": "1c9b3789-f0fb-471a-eac2-1ebd871a7004"
      },
      "source": [
        "df_truncate = evaluate(w_truncate, q_truncate, test_qa_list_20, d=64)\n",
        "print(df_truncate)"
      ],
      "execution_count": 105,
      "outputs": [
        {
          "output_type": "stream",
          "text": [
            "       IDF-Recall  Time/Query\n",
            "Dense    0.240229    0.008331\n"
          ],
          "name": "stdout"
        }
      ]
    },
    {
      "cell_type": "code",
      "metadata": {
        "colab": {
          "base_uri": "https://localhost:8080/"
        },
        "id": "Q5-ak5SCm4yN",
        "outputId": "cac24ac8-7cab-49fc-aa99-f67dd9c91480"
      },
      "source": [
        "w_fully_random = np.float32(np.random.rand(len(w_truncate), 64))\n",
        "q_fully_random = np.float32(np.random.rand(20, 64))\n",
        "df_full_random = evaluate(w_fully_random, q_fully_random, test_qa_list_20, d=64)\n",
        "print(df_full_random)"
      ],
      "execution_count": 111,
      "outputs": [
        {
          "output_type": "stream",
          "text": [
            "       IDF-Recall  Time/Query\n",
            "Dense    0.157558    0.009565\n"
          ],
          "name": "stdout"
        }
      ]
    }
  ]
}